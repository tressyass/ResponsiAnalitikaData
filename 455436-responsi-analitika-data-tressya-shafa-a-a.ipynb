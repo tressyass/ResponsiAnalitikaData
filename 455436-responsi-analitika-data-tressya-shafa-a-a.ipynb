{
 "cells": [
  {
   "cell_type": "markdown",
   "id": "bef2b6b7",
   "metadata": {
    "papermill": {
     "duration": 0.007962,
     "end_time": "2022-11-30T10:10:03.932236",
     "exception": false,
     "start_time": "2022-11-30T10:10:03.924274",
     "status": "completed"
    },
    "tags": []
   },
   "source": [
    "Import library yang dibutuhkan "
   ]
  },
  {
   "cell_type": "code",
   "execution_count": 1,
   "id": "4bd15688",
   "metadata": {
    "execution": {
     "iopub.execute_input": "2022-11-30T10:10:03.948383Z",
     "iopub.status.busy": "2022-11-30T10:10:03.947942Z",
     "iopub.status.idle": "2022-11-30T10:10:10.491235Z",
     "shell.execute_reply": "2022-11-30T10:10:10.489495Z"
    },
    "papermill": {
     "duration": 6.554257,
     "end_time": "2022-11-30T10:10:10.493572",
     "exception": false,
     "start_time": "2022-11-30T10:10:03.939315",
     "status": "completed"
    },
    "tags": []
   },
   "outputs": [
    {
     "data": {
      "text/html": [
       "        <script type=\"text/javascript\">\n",
       "        window.PlotlyConfig = {MathJaxConfig: 'local'};\n",
       "        if (window.MathJax && window.MathJax.Hub && window.MathJax.Hub.Config) {window.MathJax.Hub.Config({SVG: {font: \"STIX-Web\"}});}\n",
       "        if (typeof require !== 'undefined') {\n",
       "        require.undef(\"plotly\");\n",
       "        requirejs.config({\n",
       "            paths: {\n",
       "                'plotly': ['https://cdn.plot.ly/plotly-2.14.0.min']\n",
       "            }\n",
       "        });\n",
       "        require(['plotly'], function(Plotly) {\n",
       "            window._Plotly = Plotly;\n",
       "        });\n",
       "        }\n",
       "        </script>\n",
       "        "
      ]
     },
     "metadata": {},
     "output_type": "display_data"
    },
    {
     "name": "stdout",
     "output_type": "stream",
     "text": [
      "Populating the interactive namespace from numpy and matplotlib\n"
     ]
    },
    {
     "name": "stderr",
     "output_type": "stream",
     "text": [
      "/opt/conda/lib/python3.7/site-packages/IPython/core/magics/pylab.py:160: UserWarning:\n",
      "\n",
      "pylab import has clobbered these variables: ['sqrt', 'concatenate', 'datetime']\n",
      "`%matplotlib` prevents importing * from pylab and numpy\n",
      "\n"
     ]
    }
   ],
   "source": [
    "import csv\n",
    "from math import sqrt\n",
    "from numpy import concatenate\n",
    "from matplotlib import pyplot\n",
    "import pandas as pd\n",
    "from statsmodels.graphics.tsaplots import plot_acf,plot_pacf\n",
    "from statsmodels.tsa.stattools import adfuller\n",
    "from datetime import datetime\n",
    "from tensorflow.keras.layers import Input,Dense,concatenate,Dropout,Conv1D,Bidirectional,LSTM,SimpleRNN\n",
    "from tensorflow.keras.models import Model,load_model\n",
    "from tensorflow.keras.optimizers import Adam\n",
    "from tensorflow.keras.utils import plot_model\n",
    "from numpy import array\n",
    "import math\n",
    "import matplotlib.pyplot as plt\n",
    "from sklearn.preprocessing import MinMaxScaler\n",
    "import tensorflow as tf\n",
    "from tensorflow.keras.models import Sequential\n",
    "from tensorflow.keras.layers import Dense\n",
    "from tensorflow.keras.layers import LSTM\n",
    "from sklearn.preprocessing import MinMaxScaler\n",
    "from sklearn.preprocessing import LabelEncoder\n",
    "from sklearn.metrics import mean_squared_error\n",
    "from keras.models import Sequential\n",
    "from keras.layers import Dense\n",
    "from keras.layers import LSTM\n",
    "import plotly.offline as py\n",
    "import plotly.graph_objs as go\n",
    "import numpy as np\n",
    "import seaborn as sns\n",
    "py.init_notebook_mode(connected=True)\n",
    "from tabulate import tabulate\n",
    "%matplotlib inline\n",
    "%pylab inline"
   ]
  },
  {
   "cell_type": "markdown",
   "id": "fb2ed8e3",
   "metadata": {
    "papermill": {
     "duration": 0.007728,
     "end_time": "2022-11-30T10:10:10.509585",
     "exception": false,
     "start_time": "2022-11-30T10:10:10.501857",
     "status": "completed"
    },
    "tags": []
   },
   "source": [
    "Import Dataset"
   ]
  },
  {
   "cell_type": "code",
   "execution_count": 2,
   "id": "e35fa59e",
   "metadata": {
    "execution": {
     "iopub.execute_input": "2022-11-30T10:10:10.526890Z",
     "iopub.status.busy": "2022-11-30T10:10:10.526233Z",
     "iopub.status.idle": "2022-11-30T10:10:10.544345Z",
     "shell.execute_reply": "2022-11-30T10:10:10.543502Z"
    },
    "papermill": {
     "duration": 0.029213,
     "end_time": "2022-11-30T10:10:10.546564",
     "exception": false,
     "start_time": "2022-11-30T10:10:10.517351",
     "status": "completed"
    },
    "tags": []
   },
   "outputs": [],
   "source": [
    "eth = pd.read_csv('/kaggle/input/ethereum/ETH-USD.csv')"
   ]
  },
  {
   "cell_type": "code",
   "execution_count": 3,
   "id": "34c0acac",
   "metadata": {
    "execution": {
     "iopub.execute_input": "2022-11-30T10:10:10.563409Z",
     "iopub.status.busy": "2022-11-30T10:10:10.562636Z",
     "iopub.status.idle": "2022-11-30T10:10:10.582843Z",
     "shell.execute_reply": "2022-11-30T10:10:10.581761Z"
    },
    "papermill": {
     "duration": 0.030475,
     "end_time": "2022-11-30T10:10:10.584710",
     "exception": false,
     "start_time": "2022-11-30T10:10:10.554235",
     "status": "completed"
    },
    "tags": []
   },
   "outputs": [
    {
     "data": {
      "text/html": [
       "<div>\n",
       "<style scoped>\n",
       "    .dataframe tbody tr th:only-of-type {\n",
       "        vertical-align: middle;\n",
       "    }\n",
       "\n",
       "    .dataframe tbody tr th {\n",
       "        vertical-align: top;\n",
       "    }\n",
       "\n",
       "    .dataframe thead th {\n",
       "        text-align: right;\n",
       "    }\n",
       "</style>\n",
       "<table border=\"1\" class=\"dataframe\">\n",
       "  <thead>\n",
       "    <tr style=\"text-align: right;\">\n",
       "      <th></th>\n",
       "      <th>Date</th>\n",
       "      <th>Open</th>\n",
       "      <th>High</th>\n",
       "      <th>Low</th>\n",
       "      <th>Close</th>\n",
       "      <th>Adj Close</th>\n",
       "      <th>Volume</th>\n",
       "    </tr>\n",
       "  </thead>\n",
       "  <tbody>\n",
       "    <tr>\n",
       "      <th>0</th>\n",
       "      <td>11/29/2021</td>\n",
       "      <td>4296.946777</td>\n",
       "      <td>4460.848633</td>\n",
       "      <td>4284.504883</td>\n",
       "      <td>4445.104980</td>\n",
       "      <td>4445.104980</td>\n",
       "      <td>19086475837</td>\n",
       "    </tr>\n",
       "    <tr>\n",
       "      <th>1</th>\n",
       "      <td>11/30/2021</td>\n",
       "      <td>4447.768066</td>\n",
       "      <td>4753.266113</td>\n",
       "      <td>4358.074219</td>\n",
       "      <td>4631.479004</td>\n",
       "      <td>4631.479004</td>\n",
       "      <td>28626354111</td>\n",
       "    </tr>\n",
       "    <tr>\n",
       "      <th>2</th>\n",
       "      <td>12/1/2021</td>\n",
       "      <td>4623.679688</td>\n",
       "      <td>4780.732422</td>\n",
       "      <td>4530.272461</td>\n",
       "      <td>4586.990234</td>\n",
       "      <td>4586.990234</td>\n",
       "      <td>27634826695</td>\n",
       "    </tr>\n",
       "    <tr>\n",
       "      <th>3</th>\n",
       "      <td>12/2/2021</td>\n",
       "      <td>4586.333008</td>\n",
       "      <td>4628.919922</td>\n",
       "      <td>4441.507813</td>\n",
       "      <td>4511.302246</td>\n",
       "      <td>4511.302246</td>\n",
       "      <td>21502671027</td>\n",
       "    </tr>\n",
       "    <tr>\n",
       "      <th>4</th>\n",
       "      <td>12/3/2021</td>\n",
       "      <td>4514.355957</td>\n",
       "      <td>4647.289063</td>\n",
       "      <td>4100.145508</td>\n",
       "      <td>4220.706055</td>\n",
       "      <td>4220.706055</td>\n",
       "      <td>25879591528</td>\n",
       "    </tr>\n",
       "  </tbody>\n",
       "</table>\n",
       "</div>"
      ],
      "text/plain": [
       "         Date         Open         High          Low        Close  \\\n",
       "0  11/29/2021  4296.946777  4460.848633  4284.504883  4445.104980   \n",
       "1  11/30/2021  4447.768066  4753.266113  4358.074219  4631.479004   \n",
       "2   12/1/2021  4623.679688  4780.732422  4530.272461  4586.990234   \n",
       "3   12/2/2021  4586.333008  4628.919922  4441.507813  4511.302246   \n",
       "4   12/3/2021  4514.355957  4647.289063  4100.145508  4220.706055   \n",
       "\n",
       "     Adj Close       Volume  \n",
       "0  4445.104980  19086475837  \n",
       "1  4631.479004  28626354111  \n",
       "2  4586.990234  27634826695  \n",
       "3  4511.302246  21502671027  \n",
       "4  4220.706055  25879591528  "
      ]
     },
     "execution_count": 3,
     "metadata": {},
     "output_type": "execute_result"
    }
   ],
   "source": [
    "eth.head()"
   ]
  },
  {
   "cell_type": "code",
   "execution_count": 4,
   "id": "34fc86a7",
   "metadata": {
    "execution": {
     "iopub.execute_input": "2022-11-30T10:10:10.602894Z",
     "iopub.status.busy": "2022-11-30T10:10:10.602539Z",
     "iopub.status.idle": "2022-11-30T10:10:10.616230Z",
     "shell.execute_reply": "2022-11-30T10:10:10.614923Z"
    },
    "papermill": {
     "duration": 0.024926,
     "end_time": "2022-11-30T10:10:10.618666",
     "exception": false,
     "start_time": "2022-11-30T10:10:10.593740",
     "status": "completed"
    },
    "tags": []
   },
   "outputs": [
    {
     "data": {
      "text/html": [
       "<div>\n",
       "<style scoped>\n",
       "    .dataframe tbody tr th:only-of-type {\n",
       "        vertical-align: middle;\n",
       "    }\n",
       "\n",
       "    .dataframe tbody tr th {\n",
       "        vertical-align: top;\n",
       "    }\n",
       "\n",
       "    .dataframe thead th {\n",
       "        text-align: right;\n",
       "    }\n",
       "</style>\n",
       "<table border=\"1\" class=\"dataframe\">\n",
       "  <thead>\n",
       "    <tr style=\"text-align: right;\">\n",
       "      <th></th>\n",
       "      <th>Date</th>\n",
       "      <th>Open</th>\n",
       "      <th>High</th>\n",
       "      <th>Low</th>\n",
       "      <th>Close</th>\n",
       "      <th>Adj Close</th>\n",
       "      <th>Volume</th>\n",
       "    </tr>\n",
       "  </thead>\n",
       "  <tbody>\n",
       "    <tr>\n",
       "      <th>359</th>\n",
       "      <td>11/23/2022</td>\n",
       "      <td>1135.421509</td>\n",
       "      <td>1184.997314</td>\n",
       "      <td>1130.022827</td>\n",
       "      <td>1183.199585</td>\n",
       "      <td>1183.199585</td>\n",
       "      <td>11242676044</td>\n",
       "    </tr>\n",
       "    <tr>\n",
       "      <th>360</th>\n",
       "      <td>11/24/2022</td>\n",
       "      <td>1183.345093</td>\n",
       "      <td>1211.627441</td>\n",
       "      <td>1180.379761</td>\n",
       "      <td>1203.983154</td>\n",
       "      <td>1203.983154</td>\n",
       "      <td>9706372376</td>\n",
       "    </tr>\n",
       "    <tr>\n",
       "      <th>361</th>\n",
       "      <td>11/25/2022</td>\n",
       "      <td>1203.799438</td>\n",
       "      <td>1203.799438</td>\n",
       "      <td>1174.823364</td>\n",
       "      <td>1198.925903</td>\n",
       "      <td>1198.925903</td>\n",
       "      <td>5483308196</td>\n",
       "    </tr>\n",
       "    <tr>\n",
       "      <th>362</th>\n",
       "      <td>11/26/2022</td>\n",
       "      <td>1198.790527</td>\n",
       "      <td>1227.038086</td>\n",
       "      <td>1198.097900</td>\n",
       "      <td>1205.897949</td>\n",
       "      <td>1205.897949</td>\n",
       "      <td>5074160558</td>\n",
       "    </tr>\n",
       "    <tr>\n",
       "      <th>363</th>\n",
       "      <td>11/27/2022</td>\n",
       "      <td>1205.905273</td>\n",
       "      <td>1220.349487</td>\n",
       "      <td>1195.039063</td>\n",
       "      <td>1195.126953</td>\n",
       "      <td>1195.126953</td>\n",
       "      <td>4486976868</td>\n",
       "    </tr>\n",
       "  </tbody>\n",
       "</table>\n",
       "</div>"
      ],
      "text/plain": [
       "           Date         Open         High          Low        Close  \\\n",
       "359  11/23/2022  1135.421509  1184.997314  1130.022827  1183.199585   \n",
       "360  11/24/2022  1183.345093  1211.627441  1180.379761  1203.983154   \n",
       "361  11/25/2022  1203.799438  1203.799438  1174.823364  1198.925903   \n",
       "362  11/26/2022  1198.790527  1227.038086  1198.097900  1205.897949   \n",
       "363  11/27/2022  1205.905273  1220.349487  1195.039063  1195.126953   \n",
       "\n",
       "       Adj Close       Volume  \n",
       "359  1183.199585  11242676044  \n",
       "360  1203.983154   9706372376  \n",
       "361  1198.925903   5483308196  \n",
       "362  1205.897949   5074160558  \n",
       "363  1195.126953   4486976868  "
      ]
     },
     "execution_count": 4,
     "metadata": {},
     "output_type": "execute_result"
    }
   ],
   "source": [
    "eth.tail()"
   ]
  },
  {
   "cell_type": "code",
   "execution_count": 5,
   "id": "c9117bac",
   "metadata": {
    "execution": {
     "iopub.execute_input": "2022-11-30T10:10:10.637169Z",
     "iopub.status.busy": "2022-11-30T10:10:10.636118Z",
     "iopub.status.idle": "2022-11-30T10:10:10.642074Z",
     "shell.execute_reply": "2022-11-30T10:10:10.641222Z"
    },
    "papermill": {
     "duration": 0.017242,
     "end_time": "2022-11-30T10:10:10.644141",
     "exception": false,
     "start_time": "2022-11-30T10:10:10.626899",
     "status": "completed"
    },
    "tags": []
   },
   "outputs": [],
   "source": [
    "def plot_series(time, series, format=\"-\", start=0, end=None, Title='Time Series Plot of Ethereum'):\n",
    "    plt.plot(time[start:end], series[start:end], format)\n",
    "    plt.xlabel(\"Time\")\n",
    "    plt.ylabel(\"Value\")\n",
    "    plt.grid(True)\n",
    "    plt.title(Title)"
   ]
  },
  {
   "cell_type": "code",
   "execution_count": 6,
   "id": "68ae6f09",
   "metadata": {
    "execution": {
     "iopub.execute_input": "2022-11-30T10:10:10.661481Z",
     "iopub.status.busy": "2022-11-30T10:10:10.661151Z",
     "iopub.status.idle": "2022-11-30T10:10:10.667278Z",
     "shell.execute_reply": "2022-11-30T10:10:10.666548Z"
    },
    "papermill": {
     "duration": 0.016882,
     "end_time": "2022-11-30T10:10:10.669117",
     "exception": false,
     "start_time": "2022-11-30T10:10:10.652235",
     "status": "completed"
    },
    "tags": []
   },
   "outputs": [],
   "source": [
    "time_step = []\n",
    "value = []\n",
    "\n",
    "with open('/kaggle/input/ethereum/ETH-USD.csv') as csvfile:\n",
    "  reader = csv.reader(csvfile, delimiter=',')\n",
    "  next(reader)\n",
    "  step=0\n",
    "  for row in reader:\n",
    "    value.append(float(row[4]))\n",
    "    time_step.append(step)\n",
    "    step += 1"
   ]
  },
  {
   "cell_type": "code",
   "execution_count": 7,
   "id": "3a5fd86e",
   "metadata": {
    "execution": {
     "iopub.execute_input": "2022-11-30T10:10:10.686503Z",
     "iopub.status.busy": "2022-11-30T10:10:10.686135Z",
     "iopub.status.idle": "2022-11-30T10:10:10.904298Z",
     "shell.execute_reply": "2022-11-30T10:10:10.903041Z"
    },
    "papermill": {
     "duration": 0.229844,
     "end_time": "2022-11-30T10:10:10.906824",
     "exception": false,
     "start_time": "2022-11-30T10:10:10.676980",
     "status": "completed"
    },
    "tags": []
   },
   "outputs": [
    {
     "data": {
      "image/png": "[encoded data removed]",
      "text/plain": [
       "<Figure size 720x432 with 1 Axes>"
      ]
     },
     "metadata": {
      "needs_background": "light"
     },
     "output_type": "display_data"
    }
   ],
   "source": [
    "series = np.array(value)\n",
    "time = np.array(time_step)\n",
    "plt.figure(figsize=(10, 6))\n",
    "plot_series(time, series)"
   ]
  },
  {
   "cell_type": "code",
   "execution_count": 8,
   "id": "de0b8650",
   "metadata": {
    "execution": {
     "iopub.execute_input": "2022-11-30T10:10:10.925149Z",
     "iopub.status.busy": "2022-11-30T10:10:10.924817Z",
     "iopub.status.idle": "2022-11-30T10:10:11.080959Z",
     "shell.execute_reply": "2022-11-30T10:10:11.080083Z"
    },
    "papermill": {
     "duration": 0.167685,
     "end_time": "2022-11-30T10:10:11.083060",
     "exception": false,
     "start_time": "2022-11-30T10:10:10.915375",
     "status": "completed"
    },
    "tags": []
   },
   "outputs": [
    {
     "data": {
      "text/plain": [
       "[<matplotlib.lines.Line2D at 0x7f88ba007e50>]"
      ]
     },
     "execution_count": 8,
     "metadata": {},
     "output_type": "execute_result"
    },
    {
     "data": {
      "image/png": "[encoded data removed]",
      "text/plain": [
       "<Figure size 432x288 with 1 Axes>"
      ]
     },
     "metadata": {
      "needs_background": "light"
     },
     "output_type": "display_data"
    }
   ],
   "source": [
    "plt.plot(eth['Close'])"
   ]
  },
  {
   "cell_type": "code",
   "execution_count": 9,
   "id": "ca481df6",
   "metadata": {
    "execution": {
     "iopub.execute_input": "2022-11-30T10:10:11.102396Z",
     "iopub.status.busy": "2022-11-30T10:10:11.101654Z",
     "iopub.status.idle": "2022-11-30T10:10:11.110193Z",
     "shell.execute_reply": "2022-11-30T10:10:11.109122Z"
    },
    "papermill": {
     "duration": 0.020106,
     "end_time": "2022-11-30T10:10:11.112026",
     "exception": false,
     "start_time": "2022-11-30T10:10:11.091920",
     "status": "completed"
    },
    "tags": []
   },
   "outputs": [],
   "source": [
    "def adfuller_test(series, signif=0.05, name='', verbose=False):\n",
    "    r = adfuller(series, autolag='AIC')\n",
    "    output = {'test_statistic':round(r[0], 4), 'pvalue':round(r[1], 4), 'n_lags':round(r[2], 4), 'n_obs':r[3]}\n",
    "    p_value = output['pvalue'] \n",
    "    def adjust(val, length= 6): return str(val).ljust(length)\n",
    "\n",
    "    # Print Summary\n",
    "    print(f'    Augmented Dickey-Fuller Test on \"{name}\"', \"\\n   \", '-'*47)\n",
    "    print(f' Null Hypothesis: Data has unit root. Non-Stationary.')\n",
    "    print(f' Significance Level    = {signif}')\n",
    "    print(f' Test Statistic        = {output[\"test_statistic\"]}')\n",
    "    print(f' No. Lags Chosen       = {output[\"n_lags\"]}')\n",
    "\n",
    "    for key,val in r[4].items():\n",
    "        print(f' Critical value {adjust(key)} = {round(val, 3)}')\n",
    "\n",
    "    if p_value <= signif:\n",
    "        print(f\" => P-Value = {p_value}. Rejecting Null Hypothesis.\")\n",
    "        print(f\" => Series is Stationary.\")\n",
    "    else:\n",
    "        print(f\" => P-Value = {p_value}. Weak evidence to reject the Null Hypothesis.\")\n",
    "        print(f\" => Series is Non-Stationary.\") "
   ]
  },
  {
   "cell_type": "code",
   "execution_count": 10,
   "id": "9554b1bf",
   "metadata": {
    "execution": {
     "iopub.execute_input": "2022-11-30T10:10:11.130889Z",
     "iopub.status.busy": "2022-11-30T10:10:11.130538Z",
     "iopub.status.idle": "2022-11-30T10:10:11.139769Z",
     "shell.execute_reply": "2022-11-30T10:10:11.138924Z"
    },
    "papermill": {
     "duration": 0.020703,
     "end_time": "2022-11-30T10:10:11.141489",
     "exception": false,
     "start_time": "2022-11-30T10:10:11.120786",
     "status": "completed"
    },
    "tags": []
   },
   "outputs": [
    {
     "data": {
      "text/html": [
       "<div>\n",
       "<style scoped>\n",
       "    .dataframe tbody tr th:only-of-type {\n",
       "        vertical-align: middle;\n",
       "    }\n",
       "\n",
       "    .dataframe tbody tr th {\n",
       "        vertical-align: top;\n",
       "    }\n",
       "\n",
       "    .dataframe thead th {\n",
       "        text-align: right;\n",
       "    }\n",
       "</style>\n",
       "<table border=\"1\" class=\"dataframe\">\n",
       "  <thead>\n",
       "    <tr style=\"text-align: right;\">\n",
       "      <th></th>\n",
       "      <th>time step</th>\n",
       "      <th>value</th>\n",
       "    </tr>\n",
       "  </thead>\n",
       "  <tbody>\n",
       "    <tr>\n",
       "      <th>0</th>\n",
       "      <td>0</td>\n",
       "      <td>4445.104980</td>\n",
       "    </tr>\n",
       "    <tr>\n",
       "      <th>1</th>\n",
       "      <td>1</td>\n",
       "      <td>4631.479004</td>\n",
       "    </tr>\n",
       "    <tr>\n",
       "      <th>2</th>\n",
       "      <td>2</td>\n",
       "      <td>4586.990234</td>\n",
       "    </tr>\n",
       "    <tr>\n",
       "      <th>3</th>\n",
       "      <td>3</td>\n",
       "      <td>4511.302246</td>\n",
       "    </tr>\n",
       "    <tr>\n",
       "      <th>4</th>\n",
       "      <td>4</td>\n",
       "      <td>4220.706055</td>\n",
       "    </tr>\n",
       "  </tbody>\n",
       "</table>\n",
       "</div>"
      ],
      "text/plain": [
       "   time step        value\n",
       "0          0  4445.104980\n",
       "1          1  4631.479004\n",
       "2          2  4586.990234\n",
       "3          3  4511.302246\n",
       "4          4  4220.706055"
      ]
     },
     "execution_count": 10,
     "metadata": {},
     "output_type": "execute_result"
    }
   ],
   "source": [
    "ethereum={'time step':time,'value':series}\n",
    "df=pd.DataFrame(data=ethereum)\n",
    "df.head()"
   ]
  },
  {
   "cell_type": "code",
   "execution_count": 11,
   "id": "043da933",
   "metadata": {
    "execution": {
     "iopub.execute_input": "2022-11-30T10:10:11.161357Z",
     "iopub.status.busy": "2022-11-30T10:10:11.160842Z",
     "iopub.status.idle": "2022-11-30T10:10:11.171113Z",
     "shell.execute_reply": "2022-11-30T10:10:11.170353Z"
    },
    "papermill": {
     "duration": 0.02221,
     "end_time": "2022-11-30T10:10:11.172792",
     "exception": false,
     "start_time": "2022-11-30T10:10:11.150582",
     "status": "completed"
    },
    "tags": []
   },
   "outputs": [
    {
     "data": {
      "text/html": [
       "<div>\n",
       "<style scoped>\n",
       "    .dataframe tbody tr th:only-of-type {\n",
       "        vertical-align: middle;\n",
       "    }\n",
       "\n",
       "    .dataframe tbody tr th {\n",
       "        vertical-align: top;\n",
       "    }\n",
       "\n",
       "    .dataframe thead th {\n",
       "        text-align: right;\n",
       "    }\n",
       "</style>\n",
       "<table border=\"1\" class=\"dataframe\">\n",
       "  <thead>\n",
       "    <tr style=\"text-align: right;\">\n",
       "      <th></th>\n",
       "      <th>value</th>\n",
       "    </tr>\n",
       "    <tr>\n",
       "      <th>time step</th>\n",
       "      <th></th>\n",
       "    </tr>\n",
       "  </thead>\n",
       "  <tbody>\n",
       "    <tr>\n",
       "      <th>0</th>\n",
       "      <td>4445.104980</td>\n",
       "    </tr>\n",
       "    <tr>\n",
       "      <th>1</th>\n",
       "      <td>4631.479004</td>\n",
       "    </tr>\n",
       "    <tr>\n",
       "      <th>2</th>\n",
       "      <td>4586.990234</td>\n",
       "    </tr>\n",
       "    <tr>\n",
       "      <th>3</th>\n",
       "      <td>4511.302246</td>\n",
       "    </tr>\n",
       "    <tr>\n",
       "      <th>4</th>\n",
       "      <td>4220.706055</td>\n",
       "    </tr>\n",
       "  </tbody>\n",
       "</table>\n",
       "</div>"
      ],
      "text/plain": [
       "                 value\n",
       "time step             \n",
       "0          4445.104980\n",
       "1          4631.479004\n",
       "2          4586.990234\n",
       "3          4511.302246\n",
       "4          4220.706055"
      ]
     },
     "execution_count": 11,
     "metadata": {},
     "output_type": "execute_result"
    }
   ],
   "source": [
    "df=df.set_index(\"time step\")\n",
    "df.head()"
   ]
  },
  {
   "cell_type": "code",
   "execution_count": 12,
   "id": "3662e9c2",
   "metadata": {
    "execution": {
     "iopub.execute_input": "2022-11-30T10:10:11.192118Z",
     "iopub.status.busy": "2022-11-30T10:10:11.191653Z",
     "iopub.status.idle": "2022-11-30T10:10:11.218086Z",
     "shell.execute_reply": "2022-11-30T10:10:11.217154Z"
    },
    "papermill": {
     "duration": 0.038787,
     "end_time": "2022-11-30T10:10:11.220482",
     "exception": false,
     "start_time": "2022-11-30T10:10:11.181695",
     "status": "completed"
    },
    "tags": []
   },
   "outputs": [
    {
     "name": "stdout",
     "output_type": "stream",
     "text": [
      "    Augmented Dickey-Fuller Test on \"value\" \n",
      "    -----------------------------------------------\n",
      " Null Hypothesis: Data has unit root. Non-Stationary.\n",
      " Significance Level    = 0.05\n",
      " Test Statistic        = -1.8619\n",
      " No. Lags Chosen       = 4\n",
      " Critical value 1%     = -3.449\n",
      " Critical value 5%     = -2.87\n",
      " Critical value 10%    = -2.571\n",
      " => P-Value = 0.3502. Weak evidence to reject the Null Hypothesis.\n",
      " => Series is Non-Stationary.\n",
      "\n",
      "\n"
     ]
    }
   ],
   "source": [
    "for name, column in df.iteritems():\n",
    "    adfuller_test(column, name=column.name)\n",
    "    print('\\n')"
   ]
  },
  {
   "cell_type": "code",
   "execution_count": 13,
   "id": "1f6d948a",
   "metadata": {
    "execution": {
     "iopub.execute_input": "2022-11-30T10:10:11.241359Z",
     "iopub.status.busy": "2022-11-30T10:10:11.240998Z",
     "iopub.status.idle": "2022-11-30T10:10:11.249018Z",
     "shell.execute_reply": "2022-11-30T10:10:11.247963Z"
    },
    "papermill": {
     "duration": 0.021004,
     "end_time": "2022-11-30T10:10:11.251371",
     "exception": false,
     "start_time": "2022-11-30T10:10:11.230367",
     "status": "completed"
    },
    "tags": []
   },
   "outputs": [],
   "source": [
    "eth_p=eth.filter(['Close'])"
   ]
  },
  {
   "cell_type": "code",
   "execution_count": 14,
   "id": "5bfd3e56",
   "metadata": {
    "execution": {
     "iopub.execute_input": "2022-11-30T10:10:11.271124Z",
     "iopub.status.busy": "2022-11-30T10:10:11.270594Z",
     "iopub.status.idle": "2022-11-30T10:10:11.275556Z",
     "shell.execute_reply": "2022-11-30T10:10:11.274860Z"
    },
    "papermill": {
     "duration": 0.016832,
     "end_time": "2022-11-30T10:10:11.277261",
     "exception": false,
     "start_time": "2022-11-30T10:10:11.260429",
     "status": "completed"
    },
    "tags": []
   },
   "outputs": [],
   "source": [
    "scaler = MinMaxScaler(feature_range=(0,1))\n",
    "eth_s = scaler.fit_transform(np.array(eth_p).reshape(-1,1))"
   ]
  },
  {
   "cell_type": "code",
   "execution_count": 15,
   "id": "571bd92b",
   "metadata": {
    "execution": {
     "iopub.execute_input": "2022-11-30T10:10:11.296598Z",
     "iopub.status.busy": "2022-11-30T10:10:11.296189Z",
     "iopub.status.idle": "2022-11-30T10:10:11.303270Z",
     "shell.execute_reply": "2022-11-30T10:10:11.302304Z"
    },
    "papermill": {
     "duration": 0.019194,
     "end_time": "2022-11-30T10:10:11.305165",
     "exception": false,
     "start_time": "2022-11-30T10:10:11.285971",
     "status": "completed"
    },
    "tags": []
   },
   "outputs": [
    {
     "data": {
      "text/plain": [
       "(304, 60)"
      ]
     },
     "execution_count": 15,
     "metadata": {},
     "output_type": "execute_result"
    }
   ],
   "source": [
    "training_size = int(len(eth_s)*0.835165)\n",
    "test_size = len(eth_s) - training_size\n",
    "training_size,test_size"
   ]
  },
  {
   "cell_type": "code",
   "execution_count": 16,
   "id": "c1e9efc2",
   "metadata": {
    "execution": {
     "iopub.execute_input": "2022-11-30T10:10:11.326265Z",
     "iopub.status.busy": "2022-11-30T10:10:11.325722Z",
     "iopub.status.idle": "2022-11-30T10:10:11.584390Z",
     "shell.execute_reply": "2022-11-30T10:10:11.583476Z"
    },
    "papermill": {
     "duration": 0.272102,
     "end_time": "2022-11-30T10:10:11.586584",
     "exception": false,
     "start_time": "2022-11-30T10:10:11.314482",
     "status": "completed"
    },
    "tags": []
   },
   "outputs": [
    {
     "name": "stderr",
     "output_type": "stream",
     "text": [
      "/opt/conda/lib/python3.7/site-packages/statsmodels/graphics/tsaplots.py:353: FutureWarning:\n",
      "\n",
      "The default method 'yw' can produce PACF values outside of the [-1,1] interval. After 0.13, the default will change tounadjusted Yule-Walker ('ywm'). You can use this method now by setting method='ywm'.\n",
      "\n"
     ]
    },
    {
     "data": {
      "image/png": "[encoded data removed]",
      "text/plain": [
       "<Figure size 720x432 with 2 Axes>"
      ]
     },
     "metadata": {
      "needs_background": "light"
     },
     "output_type": "display_data"
    }
   ],
   "source": [
    "from statsmodels.graphics.tsaplots import plot_acf,plot_pacf\n",
    "fig, ax = plt.subplots(2, figsize=(10,6))\n",
    "ax[0]=plot_acf(eth.iloc[:,5],ax=ax[0])\n",
    "ax[1]=plot_pacf(eth.iloc[:,5],ax=ax[1])"
   ]
  },
  {
   "cell_type": "code",
   "execution_count": 17,
   "id": "8e9d9099",
   "metadata": {
    "execution": {
     "iopub.execute_input": "2022-11-30T10:10:11.607459Z",
     "iopub.status.busy": "2022-11-30T10:10:11.607090Z",
     "iopub.status.idle": "2022-11-30T10:10:11.612966Z",
     "shell.execute_reply": "2022-11-30T10:10:11.612108Z"
    },
    "papermill": {
     "duration": 0.018473,
     "end_time": "2022-11-30T10:10:11.614793",
     "exception": false,
     "start_time": "2022-11-30T10:10:11.596320",
     "status": "completed"
    },
    "tags": []
   },
   "outputs": [],
   "source": [
    "def create_dataset(dataset, time_step=1):\n",
    "    dataX, dataY = [], []\n",
    "    for i in range(len(dataset)-time_step):\n",
    "        a = dataset[i:(i+time_step),0]\n",
    "        dataX.append(a)\n",
    "        dataY.append(dataset[i+time_step,0])\n",
    "    return np.array(dataX), np.array(dataY)"
   ]
  },
  {
   "cell_type": "code",
   "execution_count": 18,
   "id": "249d97f3",
   "metadata": {
    "execution": {
     "iopub.execute_input": "2022-11-30T10:10:11.636046Z",
     "iopub.status.busy": "2022-11-30T10:10:11.635699Z",
     "iopub.status.idle": "2022-11-30T10:10:11.642377Z",
     "shell.execute_reply": "2022-11-30T10:10:11.641338Z"
    },
    "papermill": {
     "duration": 0.020057,
     "end_time": "2022-11-30T10:10:11.644953",
     "exception": false,
     "start_time": "2022-11-30T10:10:11.624896",
     "status": "completed"
    },
    "tags": []
   },
   "outputs": [],
   "source": [
    "time_step=1\n",
    "X_train, Y_train = create_dataset(eth_s[:training_size,:], time_step)\n",
    "X_test, Y_test = create_dataset(eth_s[training_size-time_step:,:], time_step)"
   ]
  },
  {
   "cell_type": "code",
   "execution_count": 19,
   "id": "009249cb",
   "metadata": {
    "execution": {
     "iopub.execute_input": "2022-11-30T10:10:11.666415Z",
     "iopub.status.busy": "2022-11-30T10:10:11.665503Z",
     "iopub.status.idle": "2022-11-30T10:10:11.674345Z",
     "shell.execute_reply": "2022-11-30T10:10:11.673357Z"
    },
    "papermill": {
     "duration": 0.021619,
     "end_time": "2022-11-30T10:10:11.676201",
     "exception": false,
     "start_time": "2022-11-30T10:10:11.654582",
     "status": "completed"
    },
    "tags": []
   },
   "outputs": [
    {
     "name": "stdout",
     "output_type": "stream",
     "text": [
      "(303, 1)\n",
      "(303,)\n"
     ]
    },
    {
     "data": {
      "text/plain": [
       "(None, None)"
      ]
     },
     "execution_count": 19,
     "metadata": {},
     "output_type": "execute_result"
    }
   ],
   "source": [
    "print(X_train.shape), print(Y_train.shape)"
   ]
  },
  {
   "cell_type": "code",
   "execution_count": 20,
   "id": "807a0b75",
   "metadata": {
    "execution": {
     "iopub.execute_input": "2022-11-30T10:10:11.697611Z",
     "iopub.status.busy": "2022-11-30T10:10:11.697219Z",
     "iopub.status.idle": "2022-11-30T10:10:11.702489Z",
     "shell.execute_reply": "2022-11-30T10:10:11.701665Z"
    },
    "papermill": {
     "duration": 0.017907,
     "end_time": "2022-11-30T10:10:11.704101",
     "exception": false,
     "start_time": "2022-11-30T10:10:11.686194",
     "status": "completed"
    },
    "tags": []
   },
   "outputs": [],
   "source": [
    "#reshape input\n",
    "X_train = X_train.reshape(X_train.shape[0], X_train.shape[1], 1)\n",
    "X_test = X_test.reshape(X_test.shape[0], X_test.shape[1], 1)"
   ]
  },
  {
   "cell_type": "code",
   "execution_count": 21,
   "id": "8ec247c5",
   "metadata": {
    "execution": {
     "iopub.execute_input": "2022-11-30T10:10:11.725337Z",
     "iopub.status.busy": "2022-11-30T10:10:11.724954Z",
     "iopub.status.idle": "2022-11-30T10:10:13.096005Z",
     "shell.execute_reply": "2022-11-30T10:10:13.094550Z"
    },
    "papermill": {
     "duration": 1.384715,
     "end_time": "2022-11-30T10:10:13.098658",
     "exception": false,
     "start_time": "2022-11-30T10:10:11.713943",
     "status": "completed"
    },
    "tags": []
   },
   "outputs": [
    {
     "name": "stderr",
     "output_type": "stream",
     "text": [
      "2022-11-30 10:10:11.760894: I tensorflow/core/common_runtime/process_util.cc:146] Creating new thread pool with default inter op setting: 2. Tune using inter_op_parallelism_threads for best performance.\n"
     ]
    },
    {
     "name": "stdout",
     "output_type": "stream",
     "text": [
      "Model: \"sequential\"\n",
      "_________________________________________________________________\n",
      "Layer (type)                 Output Shape              Param #   \n",
      "=================================================================\n",
      "lstm (LSTM)                  (None, 100)               40800     \n",
      "_________________________________________________________________\n",
      "dense (Dense)                (None, 20)                2020      \n",
      "_________________________________________________________________\n",
      "dense_1 (Dense)              (None, 1)                 21        \n",
      "=================================================================\n",
      "Total params: 42,841\n",
      "Trainable params: 42,841\n",
      "Non-trainable params: 0\n",
      "_________________________________________________________________\n"
     ]
    },
    {
     "data": {
      "image/png": "[encoded data removed]",
      "text/plain": [
       "<IPython.core.display.Image object>"
      ]
     },
     "execution_count": 21,
     "metadata": {},
     "output_type": "execute_result"
    }
   ],
   "source": [
    "model = Sequential()\n",
    "model.add(LSTM(100, return_sequences=False, input_shape=(time_step,1)))\n",
    "#model.add(LSTM(50, return_sequences=False))\n",
    "model.add(Dense(20,activation='relu'))\n",
    "model.add(Dense(1))\n",
    "model.compile(loss='mean_squared_error', optimizer='adam', metrics=['mae','mse'])\n",
    "model.summary()\n",
    "from tensorflow.keras.utils import plot_model\n",
    "plot_model(model, to_file='LSTM model.png', show_shapes=True)"
   ]
  },
  {
   "cell_type": "code",
   "execution_count": 22,
   "id": "46960625",
   "metadata": {
    "execution": {
     "iopub.execute_input": "2022-11-30T10:10:13.122311Z",
     "iopub.status.busy": "2022-11-30T10:10:13.121728Z",
     "iopub.status.idle": "2022-11-30T10:10:25.763119Z",
     "shell.execute_reply": "2022-11-30T10:10:25.762151Z"
    },
    "papermill": {
     "duration": 12.655781,
     "end_time": "2022-11-30T10:10:25.765245",
     "exception": false,
     "start_time": "2022-11-30T10:10:13.109464",
     "status": "completed"
    },
    "tags": []
   },
   "outputs": [
    {
     "name": "stderr",
     "output_type": "stream",
     "text": [
      "2022-11-30 10:10:13.173224: I tensorflow/compiler/mlir/mlir_graph_optimization_pass.cc:185] None of the MLIR Optimization Passes are enabled (registered 2)\n"
     ]
    },
    {
     "name": "stdout",
     "output_type": "stream",
     "text": [
      "Epoch 1/75\n",
      "38/38 [==============================] - 2s 14ms/step - loss: 0.1340 - mae: 0.2884 - mse: 0.1340 - val_loss: 0.0111 - val_mae: 0.1004 - val_mse: 0.0111\n",
      "Epoch 2/75\n",
      "38/38 [==============================] - 0s 3ms/step - loss: 0.0343 - mae: 0.1561 - mse: 0.0343 - val_loss: 0.0531 - val_mae: 0.2289 - val_mse: 0.0531\n",
      "Epoch 3/75\n",
      "38/38 [==============================] - 0s 3ms/step - loss: 0.0215 - mae: 0.1247 - mse: 0.0215 - val_loss: 0.0312 - val_mae: 0.1752 - val_mse: 0.0312\n",
      "Epoch 4/75\n",
      "38/38 [==============================] - 0s 4ms/step - loss: 0.0130 - mae: 0.0972 - mse: 0.0130 - val_loss: 0.0183 - val_mae: 0.1338 - val_mse: 0.0183\n",
      "Epoch 5/75\n",
      "38/38 [==============================] - 0s 4ms/step - loss: 0.0060 - mae: 0.0661 - mse: 0.0060 - val_loss: 0.0055 - val_mae: 0.0716 - val_mse: 0.0055\n",
      "Epoch 6/75\n",
      "38/38 [==============================] - 0s 4ms/step - loss: 0.0018 - mae: 0.0338 - mse: 0.0018 - val_loss: 2.8483e-04 - val_mae: 0.0103 - val_mse: 2.8483e-04\n",
      "Epoch 7/75\n",
      "38/38 [==============================] - 0s 3ms/step - loss: 8.8714e-04 - mae: 0.0222 - mse: 8.8714e-04 - val_loss: 3.9722e-04 - val_mae: 0.0149 - val_mse: 3.9722e-04\n",
      "Epoch 8/75\n",
      "38/38 [==============================] - 0s 4ms/step - loss: 8.6655e-04 - mae: 0.0220 - mse: 8.6655e-04 - val_loss: 3.1099e-04 - val_mae: 0.0112 - val_mse: 3.1099e-04\n",
      "Epoch 9/75\n",
      "38/38 [==============================] - 0s 3ms/step - loss: 8.4146e-04 - mae: 0.0217 - mse: 8.4146e-04 - val_loss: 2.9802e-04 - val_mae: 0.0109 - val_mse: 2.9802e-04\n",
      "Epoch 10/75\n",
      "38/38 [==============================] - 0s 3ms/step - loss: 8.6632e-04 - mae: 0.0226 - mse: 8.6632e-04 - val_loss: 2.8684e-04 - val_mae: 0.0102 - val_mse: 2.8684e-04\n",
      "Epoch 11/75\n",
      "38/38 [==============================] - 0s 4ms/step - loss: 8.4159e-04 - mae: 0.0220 - mse: 8.4159e-04 - val_loss: 2.9093e-04 - val_mae: 0.0103 - val_mse: 2.9093e-04\n",
      "Epoch 12/75\n",
      "38/38 [==============================] - 0s 3ms/step - loss: 8.7669e-04 - mae: 0.0222 - mse: 8.7669e-04 - val_loss: 2.8821e-04 - val_mae: 0.0103 - val_mse: 2.8821e-04\n",
      "Epoch 13/75\n",
      "38/38 [==============================] - 0s 3ms/step - loss: 8.5883e-04 - mae: 0.0219 - mse: 8.5883e-04 - val_loss: 3.6719e-04 - val_mae: 0.0137 - val_mse: 3.6719e-04\n",
      "Epoch 14/75\n",
      "38/38 [==============================] - 0s 3ms/step - loss: 9.2825e-04 - mae: 0.0230 - mse: 9.2825e-04 - val_loss: 3.0710e-04 - val_mae: 0.0112 - val_mse: 3.0710e-04\n",
      "Epoch 15/75\n",
      "38/38 [==============================] - 0s 3ms/step - loss: 8.4910e-04 - mae: 0.0219 - mse: 8.4910e-04 - val_loss: 2.9176e-04 - val_mae: 0.0105 - val_mse: 2.9176e-04\n",
      "Epoch 16/75\n",
      "38/38 [==============================] - 0s 4ms/step - loss: 8.4263e-04 - mae: 0.0216 - mse: 8.4263e-04 - val_loss: 3.1724e-04 - val_mae: 0.0117 - val_mse: 3.1724e-04\n",
      "Epoch 17/75\n",
      "38/38 [==============================] - 0s 3ms/step - loss: 8.8646e-04 - mae: 0.0223 - mse: 8.8646e-04 - val_loss: 3.5643e-04 - val_mae: 0.0134 - val_mse: 3.5643e-04\n",
      "Epoch 18/75\n",
      "38/38 [==============================] - 0s 3ms/step - loss: 8.7290e-04 - mae: 0.0222 - mse: 8.7290e-04 - val_loss: 3.1168e-04 - val_mae: 0.0114 - val_mse: 3.1168e-04\n",
      "Epoch 19/75\n",
      "38/38 [==============================] - 0s 3ms/step - loss: 8.5699e-04 - mae: 0.0220 - mse: 8.5699e-04 - val_loss: 3.2495e-04 - val_mae: 0.0118 - val_mse: 3.2495e-04\n",
      "Epoch 20/75\n",
      "38/38 [==============================] - 0s 3ms/step - loss: 8.5001e-04 - mae: 0.0217 - mse: 8.5001e-04 - val_loss: 2.8674e-04 - val_mae: 0.0102 - val_mse: 2.8674e-04\n",
      "Epoch 21/75\n",
      "38/38 [==============================] - 0s 3ms/step - loss: 8.8789e-04 - mae: 0.0224 - mse: 8.8789e-04 - val_loss: 2.8854e-04 - val_mae: 0.0103 - val_mse: 2.8854e-04\n",
      "Epoch 22/75\n",
      "38/38 [==============================] - 0s 3ms/step - loss: 8.4699e-04 - mae: 0.0218 - mse: 8.4699e-04 - val_loss: 2.8522e-04 - val_mae: 0.0101 - val_mse: 2.8522e-04\n",
      "Epoch 23/75\n",
      "38/38 [==============================] - 0s 3ms/step - loss: 8.3746e-04 - mae: 0.0220 - mse: 8.3746e-04 - val_loss: 3.1022e-04 - val_mae: 0.0114 - val_mse: 3.1022e-04\n",
      "Epoch 24/75\n",
      "38/38 [==============================] - 0s 3ms/step - loss: 8.4895e-04 - mae: 0.0217 - mse: 8.4895e-04 - val_loss: 3.0834e-04 - val_mae: 0.0112 - val_mse: 3.0834e-04\n",
      "Epoch 25/75\n",
      "38/38 [==============================] - 0s 3ms/step - loss: 8.5848e-04 - mae: 0.0215 - mse: 8.5848e-04 - val_loss: 3.3920e-04 - val_mae: 0.0124 - val_mse: 3.3920e-04\n",
      "Epoch 26/75\n",
      "38/38 [==============================] - 0s 4ms/step - loss: 9.1005e-04 - mae: 0.0222 - mse: 9.1005e-04 - val_loss: 4.3028e-04 - val_mae: 0.0157 - val_mse: 4.3028e-04\n",
      "Epoch 27/75\n",
      "38/38 [==============================] - 0s 4ms/step - loss: 8.5491e-04 - mae: 0.0220 - mse: 8.5491e-04 - val_loss: 2.9136e-04 - val_mae: 0.0105 - val_mse: 2.9136e-04\n",
      "Epoch 28/75\n",
      "38/38 [==============================] - 0s 4ms/step - loss: 8.7499e-04 - mae: 0.0218 - mse: 8.7499e-04 - val_loss: 2.8491e-04 - val_mae: 0.0101 - val_mse: 2.8491e-04\n",
      "Epoch 29/75\n",
      "38/38 [==============================] - 0s 4ms/step - loss: 8.9426e-04 - mae: 0.0227 - mse: 8.9426e-04 - val_loss: 3.3673e-04 - val_mae: 0.0126 - val_mse: 3.3673e-04\n",
      "Epoch 30/75\n",
      "38/38 [==============================] - 0s 3ms/step - loss: 9.9425e-04 - mae: 0.0239 - mse: 9.9425e-04 - val_loss: 2.8894e-04 - val_mae: 0.0102 - val_mse: 2.8894e-04\n",
      "Epoch 31/75\n",
      "38/38 [==============================] - 0s 5ms/step - loss: 8.6954e-04 - mae: 0.0220 - mse: 8.6954e-04 - val_loss: 3.5510e-04 - val_mae: 0.0133 - val_mse: 3.5510e-04\n",
      "Epoch 32/75\n",
      "38/38 [==============================] - 0s 4ms/step - loss: 8.8122e-04 - mae: 0.0223 - mse: 8.8122e-04 - val_loss: 3.5566e-04 - val_mae: 0.0131 - val_mse: 3.5566e-04\n",
      "Epoch 33/75\n",
      "38/38 [==============================] - 0s 4ms/step - loss: 8.7461e-04 - mae: 0.0224 - mse: 8.7461e-04 - val_loss: 2.8974e-04 - val_mae: 0.0102 - val_mse: 2.8974e-04\n",
      "Epoch 34/75\n",
      "38/38 [==============================] - 0s 4ms/step - loss: 8.5340e-04 - mae: 0.0219 - mse: 8.5340e-04 - val_loss: 2.9498e-04 - val_mae: 0.0107 - val_mse: 2.9498e-04\n",
      "Epoch 35/75\n",
      "38/38 [==============================] - 0s 4ms/step - loss: 8.7703e-04 - mae: 0.0222 - mse: 8.7703e-04 - val_loss: 2.9812e-04 - val_mae: 0.0109 - val_mse: 2.9812e-04\n",
      "Epoch 36/75\n",
      "38/38 [==============================] - 0s 4ms/step - loss: 9.0068e-04 - mae: 0.0227 - mse: 9.0068e-04 - val_loss: 2.9667e-04 - val_mae: 0.0104 - val_mse: 2.9667e-04\n",
      "Epoch 37/75\n",
      "38/38 [==============================] - 0s 4ms/step - loss: 8.9485e-04 - mae: 0.0225 - mse: 8.9485e-04 - val_loss: 3.2777e-04 - val_mae: 0.0122 - val_mse: 3.2777e-04\n",
      "Epoch 38/75\n",
      "38/38 [==============================] - 0s 4ms/step - loss: 9.1938e-04 - mae: 0.0229 - mse: 9.1938e-04 - val_loss: 2.8646e-04 - val_mae: 0.0102 - val_mse: 2.8646e-04\n",
      "Epoch 39/75\n",
      "38/38 [==============================] - 0s 3ms/step - loss: 9.0622e-04 - mae: 0.0230 - mse: 9.0622e-04 - val_loss: 3.6947e-04 - val_mae: 0.0137 - val_mse: 3.6947e-04\n",
      "Epoch 40/75\n",
      "38/38 [==============================] - 0s 4ms/step - loss: 9.1412e-04 - mae: 0.0231 - mse: 9.1412e-04 - val_loss: 2.9431e-04 - val_mae: 0.0106 - val_mse: 2.9431e-04\n",
      "Epoch 41/75\n",
      "38/38 [==============================] - 0s 4ms/step - loss: 8.4944e-04 - mae: 0.0217 - mse: 8.4944e-04 - val_loss: 2.9333e-04 - val_mae: 0.0104 - val_mse: 2.9333e-04\n",
      "Epoch 42/75\n",
      "38/38 [==============================] - 0s 4ms/step - loss: 8.6463e-04 - mae: 0.0219 - mse: 8.6463e-04 - val_loss: 3.1202e-04 - val_mae: 0.0116 - val_mse: 3.1202e-04\n",
      "Epoch 43/75\n",
      "38/38 [==============================] - 0s 3ms/step - loss: 8.7232e-04 - mae: 0.0219 - mse: 8.7232e-04 - val_loss: 2.8538e-04 - val_mae: 0.0103 - val_mse: 2.8538e-04\n",
      "Epoch 44/75\n",
      "38/38 [==============================] - 0s 3ms/step - loss: 8.6061e-04 - mae: 0.0219 - mse: 8.6061e-04 - val_loss: 2.8346e-04 - val_mae: 0.0101 - val_mse: 2.8346e-04\n",
      "Epoch 45/75\n",
      "38/38 [==============================] - 0s 4ms/step - loss: 8.6694e-04 - mae: 0.0221 - mse: 8.6694e-04 - val_loss: 3.0092e-04 - val_mae: 0.0108 - val_mse: 3.0092e-04\n",
      "Epoch 46/75\n",
      "38/38 [==============================] - 0s 4ms/step - loss: 8.3277e-04 - mae: 0.0221 - mse: 8.3277e-04 - val_loss: 2.8263e-04 - val_mae: 0.0101 - val_mse: 2.8263e-04\n",
      "Epoch 47/75\n",
      "38/38 [==============================] - 0s 3ms/step - loss: 8.6896e-04 - mae: 0.0221 - mse: 8.6896e-04 - val_loss: 2.8543e-04 - val_mae: 0.0101 - val_mse: 2.8543e-04\n",
      "Epoch 48/75\n",
      "38/38 [==============================] - 0s 3ms/step - loss: 8.6777e-04 - mae: 0.0225 - mse: 8.6777e-04 - val_loss: 3.0706e-04 - val_mae: 0.0112 - val_mse: 3.0706e-04\n",
      "Epoch 49/75\n",
      "38/38 [==============================] - 0s 3ms/step - loss: 8.6597e-04 - mae: 0.0219 - mse: 8.6597e-04 - val_loss: 2.9008e-04 - val_mae: 0.0104 - val_mse: 2.9008e-04\n",
      "Epoch 50/75\n",
      "38/38 [==============================] - 0s 4ms/step - loss: 8.8730e-04 - mae: 0.0226 - mse: 8.8730e-04 - val_loss: 2.9624e-04 - val_mae: 0.0107 - val_mse: 2.9624e-04\n",
      "Epoch 51/75\n",
      "38/38 [==============================] - 0s 4ms/step - loss: 8.7283e-04 - mae: 0.0222 - mse: 8.7283e-04 - val_loss: 4.3366e-04 - val_mae: 0.0159 - val_mse: 4.3366e-04\n",
      "Epoch 52/75\n",
      "38/38 [==============================] - 0s 4ms/step - loss: 8.6699e-04 - mae: 0.0219 - mse: 8.6699e-04 - val_loss: 2.8316e-04 - val_mae: 0.0101 - val_mse: 2.8316e-04\n",
      "Epoch 53/75\n",
      "38/38 [==============================] - 0s 4ms/step - loss: 8.4942e-04 - mae: 0.0219 - mse: 8.4942e-04 - val_loss: 2.8726e-04 - val_mae: 0.0102 - val_mse: 2.8726e-04\n",
      "Epoch 54/75\n",
      "38/38 [==============================] - 0s 3ms/step - loss: 8.9964e-04 - mae: 0.0224 - mse: 8.9964e-04 - val_loss: 3.2402e-04 - val_mae: 0.0120 - val_mse: 3.2402e-04\n",
      "Epoch 55/75\n",
      "38/38 [==============================] - 0s 3ms/step - loss: 8.7698e-04 - mae: 0.0222 - mse: 8.7698e-04 - val_loss: 2.8351e-04 - val_mae: 0.0102 - val_mse: 2.8351e-04\n",
      "Epoch 56/75\n",
      "38/38 [==============================] - 0s 3ms/step - loss: 8.6260e-04 - mae: 0.0221 - mse: 8.6260e-04 - val_loss: 2.8662e-04 - val_mae: 0.0104 - val_mse: 2.8662e-04\n",
      "Epoch 57/75\n",
      "38/38 [==============================] - 0s 4ms/step - loss: 8.5256e-04 - mae: 0.0221 - mse: 8.5256e-04 - val_loss: 3.1747e-04 - val_mae: 0.0116 - val_mse: 3.1747e-04\n",
      "Epoch 58/75\n",
      "38/38 [==============================] - 0s 4ms/step - loss: 8.5874e-04 - mae: 0.0221 - mse: 8.5874e-04 - val_loss: 3.0529e-04 - val_mae: 0.0111 - val_mse: 3.0529e-04\n",
      "Epoch 59/75\n",
      "38/38 [==============================] - 0s 4ms/step - loss: 9.6500e-04 - mae: 0.0232 - mse: 9.6500e-04 - val_loss: 4.4816e-04 - val_mae: 0.0164 - val_mse: 4.4816e-04\n",
      "Epoch 60/75\n",
      "38/38 [==============================] - 0s 4ms/step - loss: 8.7878e-04 - mae: 0.0220 - mse: 8.7878e-04 - val_loss: 3.4853e-04 - val_mae: 0.0132 - val_mse: 3.4853e-04\n",
      "Epoch 61/75\n",
      "38/38 [==============================] - 0s 3ms/step - loss: 8.9548e-04 - mae: 0.0225 - mse: 8.9548e-04 - val_loss: 4.1388e-04 - val_mae: 0.0154 - val_mse: 4.1388e-04\n",
      "Epoch 62/75\n",
      "38/38 [==============================] - 0s 4ms/step - loss: 9.2056e-04 - mae: 0.0230 - mse: 9.2056e-04 - val_loss: 6.7432e-04 - val_mae: 0.0221 - val_mse: 6.7432e-04\n",
      "Epoch 63/75\n",
      "38/38 [==============================] - 0s 4ms/step - loss: 0.0010 - mae: 0.0236 - mse: 0.0010 - val_loss: 3.7710e-04 - val_mae: 0.0142 - val_mse: 3.7710e-04\n",
      "Epoch 64/75\n",
      "38/38 [==============================] - 0s 3ms/step - loss: 9.3726e-04 - mae: 0.0234 - mse: 9.3726e-04 - val_loss: 2.8165e-04 - val_mae: 0.0100 - val_mse: 2.8165e-04\n",
      "Epoch 65/75\n",
      "38/38 [==============================] - 0s 3ms/step - loss: 9.0156e-04 - mae: 0.0225 - mse: 9.0156e-04 - val_loss: 2.9326e-04 - val_mae: 0.0105 - val_mse: 2.9326e-04\n",
      "Epoch 66/75\n",
      "38/38 [==============================] - 0s 4ms/step - loss: 8.8320e-04 - mae: 0.0221 - mse: 8.8320e-04 - val_loss: 2.8663e-04 - val_mae: 0.0103 - val_mse: 2.8663e-04\n",
      "Epoch 67/75\n",
      "38/38 [==============================] - 0s 4ms/step - loss: 8.4758e-04 - mae: 0.0223 - mse: 8.4758e-04 - val_loss: 4.9582e-04 - val_mae: 0.0176 - val_mse: 4.9582e-04\n",
      "Epoch 68/75\n",
      "38/38 [==============================] - 0s 4ms/step - loss: 9.7905e-04 - mae: 0.0236 - mse: 9.7905e-04 - val_loss: 3.2745e-04 - val_mae: 0.0122 - val_mse: 3.2745e-04\n",
      "Epoch 69/75\n",
      "38/38 [==============================] - 0s 3ms/step - loss: 8.7735e-04 - mae: 0.0223 - mse: 8.7735e-04 - val_loss: 3.6161e-04 - val_mae: 0.0135 - val_mse: 3.6161e-04\n",
      "Epoch 70/75\n",
      "38/38 [==============================] - 0s 3ms/step - loss: 9.1759e-04 - mae: 0.0224 - mse: 9.1759e-04 - val_loss: 2.8823e-04 - val_mae: 0.0102 - val_mse: 2.8823e-04\n",
      "Epoch 71/75\n",
      "38/38 [==============================] - 0s 4ms/step - loss: 8.8446e-04 - mae: 0.0224 - mse: 8.8446e-04 - val_loss: 3.1856e-04 - val_mae: 0.0119 - val_mse: 3.1856e-04\n",
      "Epoch 72/75\n",
      "38/38 [==============================] - 0s 4ms/step - loss: 8.6425e-04 - mae: 0.0222 - mse: 8.6425e-04 - val_loss: 2.8369e-04 - val_mae: 0.0101 - val_mse: 2.8369e-04\n",
      "Epoch 73/75\n",
      "38/38 [==============================] - 0s 3ms/step - loss: 8.6432e-04 - mae: 0.0222 - mse: 8.6432e-04 - val_loss: 2.8575e-04 - val_mae: 0.0101 - val_mse: 2.8575e-04\n",
      "Epoch 74/75\n",
      "38/38 [==============================] - 0s 3ms/step - loss: 8.8808e-04 - mae: 0.0221 - mse: 8.8808e-04 - val_loss: 3.0517e-04 - val_mae: 0.0110 - val_mse: 3.0517e-04\n",
      "Epoch 75/75\n",
      "38/38 [==============================] - 0s 3ms/step - loss: 8.6846e-04 - mae: 0.0221 - mse: 8.6846e-04 - val_loss: 3.0501e-04 - val_mae: 0.0112 - val_mse: 3.0501e-04\n"
     ]
    }
   ],
   "source": [
    "history = model.fit(X_train, Y_train, epochs=75, verbose=1,batch_size=8,validation_data=(X_test,Y_test) ) "
   ]
  },
  {
   "cell_type": "code",
   "execution_count": 23,
   "id": "9801316a",
   "metadata": {
    "execution": {
     "iopub.execute_input": "2022-11-30T10:10:25.815484Z",
     "iopub.status.busy": "2022-11-30T10:10:25.814901Z",
     "iopub.status.idle": "2022-11-30T10:10:26.578186Z",
     "shell.execute_reply": "2022-11-30T10:10:26.576589Z"
    },
    "papermill": {
     "duration": 0.79084,
     "end_time": "2022-11-30T10:10:26.580490",
     "exception": false,
     "start_time": "2022-11-30T10:10:25.789650",
     "status": "completed"
    },
    "tags": []
   },
   "outputs": [
    {
     "data": {
      "text/plain": [
       "<Figure size 432x288 with 0 Axes>"
      ]
     },
     "execution_count": 23,
     "metadata": {},
     "output_type": "execute_result"
    },
    {
     "data": {
      "image/png": "[encoded data removed]",
      "text/plain": [
       "<Figure size 432x288 with 1 Axes>"
      ]
     },
     "metadata": {
      "needs_background": "light"
     },
     "output_type": "display_data"
    },
    {
     "data": {
      "image/png": "[encoded data removed]",
      "text/plain": [
       "<Figure size 432x288 with 1 Axes>"
      ]
     },
     "metadata": {
      "needs_background": "light"
     },
     "output_type": "display_data"
    },
    {
     "data": {
      "image/png": "[encoded data removed]",
      "text/plain": [
       "<Figure size 432x288 with 1 Axes>"
      ]
     },
     "metadata": {
      "needs_background": "light"
     },
     "output_type": "display_data"
    },
    {
     "data": {
      "text/plain": [
       "<Figure size 432x288 with 0 Axes>"
      ]
     },
     "metadata": {},
     "output_type": "display_data"
    }
   ],
   "source": [
    "%matplotlib inline\n",
    "\n",
    "import matplotlib.image as mpimg\n",
    "import matplotlib.pyplot as plt\n",
    "\n",
    "loss=history.history['loss']\n",
    "val_loss=history.history['val_loss']\n",
    "mae=history.history['mae']\n",
    "val_mae=history.history['val_mae']\n",
    "mse=history.history['mse']\n",
    "val_mse=history.history['val_mse']\n",
    "\n",
    "epochs=range(len(loss))\n",
    "\n",
    "plt.plot(epochs, loss, 'r', label = 'Training loss')\n",
    "plt.plot(epochs, val_loss, 'b', label ='Validation loss')\n",
    "plt.title('Training and validation loss')\n",
    "plt.legend()\n",
    "plt.figure()\n",
    "\n",
    "plt.plot(epochs, mae, 'r', label = 'Training MAE')\n",
    "plt.plot(epochs, val_mae, 'b', label ='Validation MAE')\n",
    "plt.title('Training and validation MAE')\n",
    "plt.legend()\n",
    "plt.figure()\n",
    "\n",
    "plt.plot(epochs, mse, 'r', label = 'Training MSE')\n",
    "plt.plot(epochs, val_mse, 'b', label ='Validation MSE')\n",
    "plt.title('Training and validation MSE')\n",
    "plt.legend()\n",
    "plt.figure()"
   ]
  },
  {
   "cell_type": "code",
   "execution_count": 24,
   "id": "38ebcc90",
   "metadata": {
    "execution": {
     "iopub.execute_input": "2022-11-30T10:10:26.631528Z",
     "iopub.status.busy": "2022-11-30T10:10:26.631163Z",
     "iopub.status.idle": "2022-11-30T10:10:27.009009Z",
     "shell.execute_reply": "2022-11-30T10:10:27.008005Z"
    },
    "papermill": {
     "duration": 0.406208,
     "end_time": "2022-11-30T10:10:27.011422",
     "exception": false,
     "start_time": "2022-11-30T10:10:26.605214",
     "status": "completed"
    },
    "tags": []
   },
   "outputs": [],
   "source": [
    "test_predict = model.predict(X_test)"
   ]
  },
  {
   "cell_type": "code",
   "execution_count": 25,
   "id": "faf1f90f",
   "metadata": {
    "execution": {
     "iopub.execute_input": "2022-11-30T10:10:27.065151Z",
     "iopub.status.busy": "2022-11-30T10:10:27.064098Z",
     "iopub.status.idle": "2022-11-30T10:10:27.070309Z",
     "shell.execute_reply": "2022-11-30T10:10:27.068972Z"
    },
    "papermill": {
     "duration": 0.034993,
     "end_time": "2022-11-30T10:10:27.072718",
     "exception": false,
     "start_time": "2022-11-30T10:10:27.037725",
     "status": "completed"
    },
    "tags": []
   },
   "outputs": [],
   "source": [
    "test_predict_true = scaler.inverse_transform(test_predict.reshape(-1,1))"
   ]
  },
  {
   "cell_type": "code",
   "execution_count": 26,
   "id": "be100aaf",
   "metadata": {
    "execution": {
     "iopub.execute_input": "2022-11-30T10:10:27.126247Z",
     "iopub.status.busy": "2022-11-30T10:10:27.125725Z",
     "iopub.status.idle": "2022-11-30T10:10:27.129618Z",
     "shell.execute_reply": "2022-11-30T10:10:27.128995Z"
    },
    "papermill": {
     "duration": 0.033347,
     "end_time": "2022-11-30T10:10:27.132018",
     "exception": false,
     "start_time": "2022-11-30T10:10:27.098671",
     "status": "completed"
    },
    "tags": []
   },
   "outputs": [],
   "source": [
    "testY_inverse = scaler.inverse_transform(Y_test.reshape(-1, 1))"
   ]
  },
  {
   "cell_type": "code",
   "execution_count": 27,
   "id": "fc276bb2",
   "metadata": {
    "execution": {
     "iopub.execute_input": "2022-11-30T10:10:27.184714Z",
     "iopub.status.busy": "2022-11-30T10:10:27.184094Z",
     "iopub.status.idle": "2022-11-30T10:10:27.189375Z",
     "shell.execute_reply": "2022-11-30T10:10:27.188390Z"
    },
    "papermill": {
     "duration": 0.033526,
     "end_time": "2022-11-30T10:10:27.191734",
     "exception": false,
     "start_time": "2022-11-30T10:10:27.158208",
     "status": "completed"
    },
    "tags": []
   },
   "outputs": [],
   "source": [
    "testY_reshape = testY_inverse.reshape(len(testY_inverse))\n",
    "yhat_reshape = test_predict_true.reshape(len(test_predict_true))"
   ]
  },
  {
   "cell_type": "code",
   "execution_count": 28,
   "id": "6524f8ee",
   "metadata": {
    "execution": {
     "iopub.execute_input": "2022-11-30T10:10:27.243827Z",
     "iopub.status.busy": "2022-11-30T10:10:27.243218Z",
     "iopub.status.idle": "2022-11-30T10:10:27.252752Z",
     "shell.execute_reply": "2022-11-30T10:10:27.251836Z"
    },
    "papermill": {
     "duration": 0.03822,
     "end_time": "2022-11-30T10:10:27.255131",
     "exception": false,
     "start_time": "2022-11-30T10:10:27.216911",
     "status": "completed"
    },
    "tags": []
   },
   "outputs": [
    {
     "data": {
      "text/plain": [
       "Close    63.532782\n",
       "dtype: float64"
      ]
     },
     "execution_count": 28,
     "metadata": {},
     "output_type": "execute_result"
    }
   ],
   "source": [
    "#RMSE\n",
    "import math\n",
    "from sklearn.metrics import mean_squared_error\n",
    "rmse=np.sqrt(np.mean(((test_predict_true- eth_p[training_size:])**2)))\n",
    "rmse"
   ]
  },
  {
   "cell_type": "code",
   "execution_count": 29,
   "id": "29fc0519",
   "metadata": {
    "execution": {
     "iopub.execute_input": "2022-11-30T10:10:27.307812Z",
     "iopub.status.busy": "2022-11-30T10:10:27.307171Z",
     "iopub.status.idle": "2022-11-30T10:10:27.494731Z",
     "shell.execute_reply": "2022-11-30T10:10:27.493944Z"
    },
    "papermill": {
     "duration": 0.215946,
     "end_time": "2022-11-30T10:10:27.496503",
     "exception": false,
     "start_time": "2022-11-30T10:10:27.280557",
     "status": "completed"
    },
    "tags": []
   },
   "outputs": [
    {
     "name": "stderr",
     "output_type": "stream",
     "text": [
      "/opt/conda/lib/python3.7/site-packages/ipykernel_launcher.py:2: SettingWithCopyWarning:\n",
      "\n",
      "\n",
      "A value is trying to be set on a copy of a slice from a DataFrame.\n",
      "Try using .loc[row_indexer,col_indexer] = value instead\n",
      "\n",
      "See the caveats in the documentation: https://pandas.pydata.org/pandas-docs/stable/user_guide/indexing.html#returning-a-view-versus-a-copy\n",
      "\n"
     ]
    },
    {
     "data": {
      "image/png": "[encoded data removed]",
      "text/plain": [
       "<Figure size 1152x576 with 1 Axes>"
      ]
     },
     "metadata": {
      "needs_background": "light"
     },
     "output_type": "display_data"
    }
   ],
   "source": [
    "valid = eth[training_size:]\n",
    "valid['Predictions'] = test_predict_true\n",
    "plt.figure(figsize=(16,8))\n",
    "plt.title('Model LSTM', fontsize=18)\n",
    "plt.xlabel('Date dalam Hari', fontsize=12)\n",
    "plt.ylabel('Harga Ethereum dalam USD', fontsize=12)\n",
    "plt.plot(valid[['Close', 'Predictions']])\n",
    "plt.legend([ 'Val', 'Predictions'], loc='lower right')\n",
    "plt.show()"
   ]
  },
  {
   "cell_type": "code",
   "execution_count": 30,
   "id": "368453ce",
   "metadata": {
    "execution": {
     "iopub.execute_input": "2022-11-30T10:10:27.549033Z",
     "iopub.status.busy": "2022-11-30T10:10:27.548697Z",
     "iopub.status.idle": "2022-11-30T10:10:27.553833Z",
     "shell.execute_reply": "2022-11-30T10:10:27.552497Z"
    },
    "papermill": {
     "duration": 0.034511,
     "end_time": "2022-11-30T10:10:27.556415",
     "exception": false,
     "start_time": "2022-11-30T10:10:27.521904",
     "status": "completed"
    },
    "tags": []
   },
   "outputs": [],
   "source": [
    "predictDates = eth.tail(len(X_test)).index"
   ]
  },
  {
   "cell_type": "code",
   "execution_count": 31,
   "id": "cfa7be4a",
   "metadata": {
    "execution": {
     "iopub.execute_input": "2022-11-30T10:10:27.610803Z",
     "iopub.status.busy": "2022-11-30T10:10:27.610433Z",
     "iopub.status.idle": "2022-11-30T10:10:28.445825Z",
     "shell.execute_reply": "2022-11-30T10:10:28.444427Z"
    },
    "papermill": {
     "duration": 0.865166,
     "end_time": "2022-11-30T10:10:28.447959",
     "exception": false,
     "start_time": "2022-11-30T10:10:27.582793",
     "status": "completed"
    },
    "tags": []
   },
   "outputs": [
    {
     "data": {
      "application/vnd.plotly.v1+json": {
       "config": {
        "linkText": "Export to plot.ly",
        "plotlyServerURL": "https://plot.ly",
        "showLink": false
       },
       "data": [
        {
         "name": "Predict Price",
         "type": "scatter",
         "x": [
          304,
          305,
          306,
          307,
          308,
          309,
          310,
          311,
          312,
          313,
          314,
          315,
          316,
          317,
          318,
          319,
          320,
          321,
          322,
          323,
          324,
          325,
          326,
          327,
          328,
          329,
          330,
          331,
          332,
          333,
          334,
          335,
          336,
          337,
          338,
          339,
          340,
          341,
          342,
          343,
          344,
          345,
          346,
          347,
          348,
          349,
          350,
          351,
          352,
          353,
          354,
          355,
          356,
          357,
          358,
          359,
          360,
          361,
          362,
          363
         ],
         "y": [
          1351.5137,
          1349.8185,
          1342.4242,
          1326.6986,
          1292.5364,
          1338.0521,
          1375.3602,
          1366.3925,
          1365.3042,
          1346.7969,
          1330.4093,
          1337.2482,
          1307.1742,
          1295.8785,
          1310.6034,
          1304.087,
          1313.0212,
          1291.3639,
          1321.5541,
          1346.0228,
          1325.5465,
          1301.8015,
          1299.359,
          1315.4478,
          1329.2532,
          1376.6354,
          1358.83,
          1471.8276,
          1574.2325,
          1523.1882,
          1563.372,
          1626.3881,
          1597.9802,
          1580.2574,
          1587.111,
          1528.3992,
          1539.9568,
          1651.3844,
          1634.523,
          1579.7872,
          1576.2166,
          1347.1039,
          1129.5542,
          1314.9846,
          1303.2197,
          1272.5657,
          1240.5526,
          1259.4788,
          1269.1815,
          1234.6116,
          1220.4841,
          1231.4568,
          1237.3102,
          1166.0067,
          1136.5978,
          1159.7131,
          1203.6886,
          1223.5144,
          1218.6874,
          1225.3425
         ]
        },
        {
         "name": "Actual Price",
         "type": "scatter",
         "x": [
          304,
          305,
          306,
          307,
          308,
          309,
          310,
          311,
          312,
          313,
          314,
          315,
          316,
          317,
          318,
          319,
          320,
          321,
          322,
          323,
          324,
          325,
          326,
          327,
          328,
          329,
          330,
          331,
          332,
          333,
          334,
          335,
          336,
          337,
          338,
          339,
          340,
          341,
          342,
          343,
          344,
          345,
          346,
          347,
          348,
          349,
          350,
          351,
          352,
          353,
          354,
          355,
          356,
          357,
          358,
          359,
          360,
          361,
          362,
          363
         ],
         "y": [
          1335.652344,
          1327.978638,
          1311.644409,
          1276.093506,
          1323.439209,
          1362.126587,
          1352.837158,
          1351.709473,
          1332.516968,
          1315.500488,
          1322.604248,
          1291.337646,
          1279.575684,
          1294.906372,
          1288.123901,
          1297.422119,
          1274.871704,
          1306.296631,
          1331.713623,
          1310.447021,
          1285.744263,
          1283.200928,
          1299.946411,
          1314.299194,
          1363.447021,
          1344.998535,
          1461.665405,
          1566.56665,
          1514.374878,
          1555.477905,
          1619.698486,
          1590.783325,
          1572.714478,
          1579.70459,
          1519.711792,
          1531.541748,
          1645.093384,
          1627.968018,
          1572.234741,
          1568.591309,
          1332.835571,
          1100.1698,
          1299.4646,
          1287.221069,
          1255.268311,
          1221.819214,
          1241.604248,
          1251.736206,
          1215.602539,
          1200.808594,
          1212.300293,
          1218.426758,
          1142.466675,
          1108.353027,
          1135.173462,
          1183.199585,
          1203.983154,
          1198.925903,
          1205.897949,
          1195.126953
         ]
        }
       ],
       "layout": {
        "template": {
         "data": {
          "bar": [
           {
            "error_x": {
             "color": "#2a3f5f"
            },
            "error_y": {
             "color": "#2a3f5f"
            },
            "marker": {
             "line": {
              "color": "#E5ECF6",
              "width": 0.5
             },
             "pattern": {
              "fillmode": "overlay",
              "size": 10,
              "solidity": 0.2
             }
            },
            "type": "bar"
           }
          ],
          "barpolar": [
           {
            "marker": {
             "line": {
              "color": "#E5ECF6",
              "width": 0.5
             },
             "pattern": {
              "fillmode": "overlay",
              "size": 10,
              "solidity": 0.2
             }
            },
            "type": "barpolar"
           }
          ],
          "carpet": [
           {
            "aaxis": {
             "endlinecolor": "#2a3f5f",
             "gridcolor": "white",
             "linecolor": "white",
             "minorgridcolor": "white",
             "startlinecolor": "#2a3f5f"
            },
            "baxis": {
             "endlinecolor": "#2a3f5f",
             "gridcolor": "white",
             "linecolor": "white",
             "minorgridcolor": "white",
             "startlinecolor": "#2a3f5f"
            },
            "type": "carpet"
           }
          ],
          "choropleth": [
           {
            "colorbar": {
             "outlinewidth": 0,
             "ticks": ""
            },
            "type": "choropleth"
           }
          ],
          "contour": [
           {
            "colorbar": {
             "outlinewidth": 0,
             "ticks": ""
            },
            "colorscale": [
             [
              0.0,
              "#0d0887"
             ],
             [
              0.1111111111111111,
              "#46039f"
             ],
             [
              0.2222222222222222,
              "#7201a8"
             ],
             [
              0.3333333333333333,
              "#9c179e"
             ],
             [
              0.4444444444444444,
              "#bd3786"
             ],
             [
              0.5555555555555556,
              "#d8576b"
             ],
             [
              0.6666666666666666,
              "#ed7953"
             ],
             [
              0.7777777777777778,
              "#fb9f3a"
             ],
             [
              0.8888888888888888,
              "#fdca26"
             ],
             [
              1.0,
              "#f0f921"
             ]
            ],
            "type": "contour"
           }
          ],
          "contourcarpet": [
           {
            "colorbar": {
             "outlinewidth": 0,
             "ticks": ""
            },
            "type": "contourcarpet"
           }
          ],
          "heatmap": [
           {
            "colorbar": {
             "outlinewidth": 0,
             "ticks": ""
            },
            "colorscale": [
             [
              0.0,
              "#0d0887"
             ],
             [
              0.1111111111111111,
              "#46039f"
             ],
             [
              0.2222222222222222,
              "#7201a8"
             ],
             [
              0.3333333333333333,
              "#9c179e"
             ],
             [
              0.4444444444444444,
              "#bd3786"
             ],
             [
              0.5555555555555556,
              "#d8576b"
             ],
             [
              0.6666666666666666,
              "#ed7953"
             ],
             [
              0.7777777777777778,
              "#fb9f3a"
             ],
             [
              0.8888888888888888,
              "#fdca26"
             ],
             [
              1.0,
              "#f0f921"
             ]
            ],
            "type": "heatmap"
           }
          ],
          "heatmapgl": [
           {
            "colorbar": {
             "outlinewidth": 0,
             "ticks": ""
            },
            "colorscale": [
             [
              0.0,
              "#0d0887"
             ],
             [
              0.1111111111111111,
              "#46039f"
             ],
             [
              0.2222222222222222,
              "#7201a8"
             ],
             [
              0.3333333333333333,
              "#9c179e"
             ],
             [
              0.4444444444444444,
              "#bd3786"
             ],
             [
              0.5555555555555556,
              "#d8576b"
             ],
             [
              0.6666666666666666,
              "#ed7953"
             ],
             [
              0.7777777777777778,
              "#fb9f3a"
             ],
             [
              0.8888888888888888,
              "#fdca26"
             ],
             [
              1.0,
              "#f0f921"
             ]
            ],
            "type": "heatmapgl"
           }
          ],
          "histogram": [
           {
            "marker": {
             "pattern": {
              "fillmode": "overlay",
              "size": 10,
              "solidity": 0.2
             }
            },
            "type": "histogram"
           }
          ],
          "histogram2d": [
           {
            "colorbar": {
             "outlinewidth": 0,
             "ticks": ""
            },
            "colorscale": [
             [
              0.0,
              "#0d0887"
             ],
             [
              0.1111111111111111,
              "#46039f"
             ],
             [
              0.2222222222222222,
              "#7201a8"
             ],
             [
              0.3333333333333333,
              "#9c179e"
             ],
             [
              0.4444444444444444,
              "#bd3786"
             ],
             [
              0.5555555555555556,
              "#d8576b"
             ],
             [
              0.6666666666666666,
              "#ed7953"
             ],
             [
              0.7777777777777778,
              "#fb9f3a"
             ],
             [
              0.8888888888888888,
              "#fdca26"
             ],
             [
              1.0,
              "#f0f921"
             ]
            ],
            "type": "histogram2d"
           }
          ],
          "histogram2dcontour": [
           {
            "colorbar": {
             "outlinewidth": 0,
             "ticks": ""
            },
            "colorscale": [
             [
              0.0,
              "#0d0887"
             ],
             [
              0.1111111111111111,
              "#46039f"
             ],
             [
              0.2222222222222222,
              "#7201a8"
             ],
             [
              0.3333333333333333,
              "#9c179e"
             ],
             [
              0.4444444444444444,
              "#bd3786"
             ],
             [
              0.5555555555555556,
              "#d8576b"
             ],
             [
              0.6666666666666666,
              "#ed7953"
             ],
             [
              0.7777777777777778,
              "#fb9f3a"
             ],
             [
              0.8888888888888888,
              "#fdca26"
             ],
             [
              1.0,
              "#f0f921"
             ]
            ],
            "type": "histogram2dcontour"
           }
          ],
          "mesh3d": [
           {
            "colorbar": {
             "outlinewidth": 0,
             "ticks": ""
            },
            "type": "mesh3d"
           }
          ],
          "parcoords": [
           {
            "line": {
             "colorbar": {
              "outlinewidth": 0,
              "ticks": ""
             }
            },
            "type": "parcoords"
           }
          ],
          "pie": [
           {
            "automargin": true,
            "type": "pie"
           }
          ],
          "scatter": [
           {
            "fillpattern": {
             "fillmode": "overlay",
             "size": 10,
             "solidity": 0.2
            },
            "type": "scatter"
           }
          ],
          "scatter3d": [
           {
            "line": {
             "colorbar": {
              "outlinewidth": 0,
              "ticks": ""
             }
            },
            "marker": {
             "colorbar": {
              "outlinewidth": 0,
              "ticks": ""
             }
            },
            "type": "scatter3d"
           }
          ],
          "scattercarpet": [
           {
            "marker": {
             "colorbar": {
              "outlinewidth": 0,
              "ticks": ""
             }
            },
            "type": "scattercarpet"
           }
          ],
          "scattergeo": [
           {
            "marker": {
             "colorbar": {
              "outlinewidth": 0,
              "ticks": ""
             }
            },
            "type": "scattergeo"
           }
          ],
          "scattergl": [
           {
            "marker": {
             "colorbar": {
              "outlinewidth": 0,
              "ticks": ""
             }
            },
            "type": "scattergl"
           }
          ],
          "scattermapbox": [
           {
            "marker": {
             "colorbar": {
              "outlinewidth": 0,
              "ticks": ""
             }
            },
            "type": "scattermapbox"
           }
          ],
          "scatterpolar": [
           {
            "marker": {
             "colorbar": {
              "outlinewidth": 0,
              "ticks": ""
             }
            },
            "type": "scatterpolar"
           }
          ],
          "scatterpolargl": [
           {
            "marker": {
             "colorbar": {
              "outlinewidth": 0,
              "ticks": ""
             }
            },
            "type": "scatterpolargl"
           }
          ],
          "scatterternary": [
           {
            "marker": {
             "colorbar": {
              "outlinewidth": 0,
              "ticks": ""
             }
            },
            "type": "scatterternary"
           }
          ],
          "surface": [
           {
            "colorbar": {
             "outlinewidth": 0,
             "ticks": ""
            },
            "colorscale": [
             [
              0.0,
              "#0d0887"
             ],
             [
              0.1111111111111111,
              "#46039f"
             ],
             [
              0.2222222222222222,
              "#7201a8"
             ],
             [
              0.3333333333333333,
              "#9c179e"
             ],
             [
              0.4444444444444444,
              "#bd3786"
             ],
             [
              0.5555555555555556,
              "#d8576b"
             ],
             [
              0.6666666666666666,
              "#ed7953"
             ],
             [
              0.7777777777777778,
              "#fb9f3a"
             ],
             [
              0.8888888888888888,
              "#fdca26"
             ],
             [
              1.0,
              "#f0f921"
             ]
            ],
            "type": "surface"
           }
          ],
          "table": [
           {
            "cells": {
             "fill": {
              "color": "#EBF0F8"
             },
             "line": {
              "color": "white"
             }
            },
            "header": {
             "fill": {
              "color": "#C8D4E3"
             },
             "line": {
              "color": "white"
             }
            },
            "type": "table"
           }
          ]
         },
         "layout": {
          "annotationdefaults": {
           "arrowcolor": "#2a3f5f",
           "arrowhead": 0,
           "arrowwidth": 1
          },
          "autotypenumbers": "strict",
          "coloraxis": {
           "colorbar": {
            "outlinewidth": 0,
            "ticks": ""
           }
          },
          "colorscale": {
           "diverging": [
            [
             0,
             "#8e0152"
            ],
            [
             0.1,
             "#c51b7d"
            ],
            [
             0.2,
             "#de77ae"
            ],
            [
             0.3,
             "#f1b6da"
            ],
            [
             0.4,
             "#fde0ef"
            ],
            [
             0.5,
             "#f7f7f7"
            ],
            [
             0.6,
             "#e6f5d0"
            ],
            [
             0.7,
             "#b8e186"
            ],
            [
             0.8,
             "#7fbc41"
            ],
            [
             0.9,
             "#4d9221"
            ],
            [
             1,
             "#276419"
            ]
           ],
           "sequential": [
            [
             0.0,
             "#0d0887"
            ],
            [
             0.1111111111111111,
             "#46039f"
            ],
            [
             0.2222222222222222,
             "#7201a8"
            ],
            [
             0.3333333333333333,
             "#9c179e"
            ],
            [
             0.4444444444444444,
             "#bd3786"
            ],
            [
             0.5555555555555556,
             "#d8576b"
            ],
            [
             0.6666666666666666,
             "#ed7953"
            ],
            [
             0.7777777777777778,
             "#fb9f3a"
            ],
            [
             0.8888888888888888,
             "#fdca26"
            ],
            [
             1.0,
             "#f0f921"
            ]
           ],
           "sequentialminus": [
            [
             0.0,
             "#0d0887"
            ],
            [
             0.1111111111111111,
             "#46039f"
            ],
            [
             0.2222222222222222,
             "#7201a8"
            ],
            [
             0.3333333333333333,
             "#9c179e"
            ],
            [
             0.4444444444444444,
             "#bd3786"
            ],
            [
             0.5555555555555556,
             "#d8576b"
            ],
            [
             0.6666666666666666,
             "#ed7953"
            ],
            [
             0.7777777777777778,
             "#fb9f3a"
            ],
            [
             0.8888888888888888,
             "#fdca26"
            ],
            [
             1.0,
             "#f0f921"
            ]
           ]
          },
          "colorway": [
           "#636efa",
           "#EF553B",
           "#00cc96",
           "#ab63fa",
           "#FFA15A",
           "#19d3f3",
           "#FF6692",
           "#B6E880",
           "#FF97FF",
           "#FECB52"
          ],
          "font": {
           "color": "#2a3f5f"
          },
          "geo": {
           "bgcolor": "white",
           "lakecolor": "white",
           "landcolor": "#E5ECF6",
           "showlakes": true,
           "showland": true,
           "subunitcolor": "white"
          },
          "hoverlabel": {
           "align": "left"
          },
          "hovermode": "closest",
          "mapbox": {
           "style": "light"
          },
          "paper_bgcolor": "white",
          "plot_bgcolor": "#E5ECF6",
          "polar": {
           "angularaxis": {
            "gridcolor": "white",
            "linecolor": "white",
            "ticks": ""
           },
           "bgcolor": "#E5ECF6",
           "radialaxis": {
            "gridcolor": "white",
            "linecolor": "white",
            "ticks": ""
           }
          },
          "scene": {
           "xaxis": {
            "backgroundcolor": "#E5ECF6",
            "gridcolor": "white",
            "gridwidth": 2,
            "linecolor": "white",
            "showbackground": true,
            "ticks": "",
            "zerolinecolor": "white"
           },
           "yaxis": {
            "backgroundcolor": "#E5ECF6",
            "gridcolor": "white",
            "gridwidth": 2,
            "linecolor": "white",
            "showbackground": true,
            "ticks": "",
            "zerolinecolor": "white"
           },
           "zaxis": {
            "backgroundcolor": "#E5ECF6",
            "gridcolor": "white",
            "gridwidth": 2,
            "linecolor": "white",
            "showbackground": true,
            "ticks": "",
            "zerolinecolor": "white"
           }
          },
          "shapedefaults": {
           "line": {
            "color": "#2a3f5f"
           }
          },
          "ternary": {
           "aaxis": {
            "gridcolor": "white",
            "linecolor": "white",
            "ticks": ""
           },
           "baxis": {
            "gridcolor": "white",
            "linecolor": "white",
            "ticks": ""
           },
           "bgcolor": "#E5ECF6",
           "caxis": {
            "gridcolor": "white",
            "linecolor": "white",
            "ticks": ""
           }
          },
          "title": {
           "x": 0.05
          },
          "xaxis": {
           "automargin": true,
           "gridcolor": "white",
           "linecolor": "white",
           "ticks": "",
           "title": {
            "standoff": 15
           },
           "zerolinecolor": "white",
           "zerolinewidth": 2
          },
          "yaxis": {
           "automargin": true,
           "gridcolor": "white",
           "linecolor": "white",
           "ticks": "",
           "title": {
            "standoff": 15
           },
           "zerolinecolor": "white",
           "zerolinewidth": 2
          }
         }
        }
       }
      },
      "text/html": [
       "<div>                            <div id=\"8646b912-8378-4f99-b007-a7c30626a52b\" class=\"plotly-graph-div\" style=\"height:525px; width:100%;\"></div>            <script type=\"text/javascript\">                require([\"plotly\"], function(Plotly) {                    window.PLOTLYENV=window.PLOTLYENV || {};                                    if (document.getElementById(\"8646b912-8378-4f99-b007-a7c30626a52b\")) {                    Plotly.newPlot(                        \"8646b912-8378-4f99-b007-a7c30626a52b\",                        [{\"name\":\"Predict Price\",\"x\":[304,305,306,307,308,309,310,311,312,313,314,315,316,317,318,319,320,321,322,323,324,325,326,327,328,329,330,331,332,333,334,335,336,337,338,339,340,341,342,343,344,345,346,347,348,349,350,351,352,353,354,355,356,357,358,359,360,361,362,363],\"y\":[1351.5137,1349.8185,1342.4242,1326.6986,1292.5364,1338.0521,1375.3602,1366.3925,1365.3042,1346.7969,1330.4093,1337.2482,1307.1742,1295.8785,1310.6034,1304.087,1313.0212,1291.3639,1321.5541,1346.0228,1325.5465,1301.8015,1299.359,1315.4478,1329.2532,1376.6354,1358.83,1471.8276,1574.2325,1523.1882,1563.372,1626.3881,1597.9802,1580.2574,1587.111,1528.3992,1539.9568,1651.3844,1634.523,1579.7872,1576.2166,1347.1039,1129.5542,1314.9846,1303.2197,1272.5657,1240.5526,1259.4788,1269.1815,1234.6116,1220.4841,1231.4568,1237.3102,1166.0067,1136.5978,1159.7131,1203.6886,1223.5144,1218.6874,1225.3425],\"type\":\"scatter\"},{\"name\":\"Actual Price\",\"x\":[304,305,306,307,308,309,310,311,312,313,314,315,316,317,318,319,320,321,322,323,324,325,326,327,328,329,330,331,332,333,334,335,336,337,338,339,340,341,342,343,344,345,346,347,348,349,350,351,352,353,354,355,356,357,358,359,360,361,362,363],\"y\":[1335.652344,1327.978638,1311.644409,1276.093506,1323.439209,1362.126587,1352.837158,1351.709473,1332.516968,1315.500488,1322.604248,1291.337646,1279.575684,1294.906372,1288.123901,1297.422119,1274.871704,1306.296631,1331.713623,1310.447021,1285.744263,1283.200928,1299.946411,1314.299194,1363.447021,1344.998535,1461.665405,1566.56665,1514.374878,1555.477905,1619.698486,1590.783325,1572.714478,1579.70459,1519.711792,1531.541748,1645.093384,1627.968018,1572.234741,1568.591309,1332.835571,1100.1698,1299.4646,1287.221069,1255.268311,1221.819214,1241.604248,1251.736206,1215.602539,1200.808594,1212.300293,1218.426758,1142.466675,1108.353027,1135.173462,1183.199585,1203.983154,1198.925903,1205.897949,1195.126953],\"type\":\"scatter\"}],                        {\"template\":{\"data\":{\"barpolar\":[{\"marker\":{\"line\":{\"color\":\"#E5ECF6\",\"width\":0.5},\"pattern\":{\"fillmode\":\"overlay\",\"size\":10,\"solidity\":0.2}},\"type\":\"barpolar\"}],\"bar\":[{\"error_x\":{\"color\":\"#2a3f5f\"},\"error_y\":{\"color\":\"#2a3f5f\"},\"marker\":{\"line\":{\"color\":\"#E5ECF6\",\"width\":0.5},\"pattern\":{\"fillmode\":\"overlay\",\"size\":10,\"solidity\":0.2}},\"type\":\"bar\"}],\"carpet\":[{\"aaxis\":{\"endlinecolor\":\"#2a3f5f\",\"gridcolor\":\"white\",\"linecolor\":\"white\",\"minorgridcolor\":\"white\",\"startlinecolor\":\"#2a3f5f\"},\"baxis\":{\"endlinecolor\":\"#2a3f5f\",\"gridcolor\":\"white\",\"linecolor\":\"white\",\"minorgridcolor\":\"white\",\"startlinecolor\":\"#2a3f5f\"},\"type\":\"carpet\"}],\"choropleth\":[{\"colorbar\":{\"outlinewidth\":0,\"ticks\":\"\"},\"type\":\"choropleth\"}],\"contourcarpet\":[{\"colorbar\":{\"outlinewidth\":0,\"ticks\":\"\"},\"type\":\"contourcarpet\"}],\"contour\":[{\"colorbar\":{\"outlinewidth\":0,\"ticks\":\"\"},\"colorscale\":[[0.0,\"#0d0887\"],[0.1111111111111111,\"#46039f\"],[0.2222222222222222,\"#7201a8\"],[0.3333333333333333,\"#9c179e\"],[0.4444444444444444,\"#bd3786\"],[0.5555555555555556,\"#d8576b\"],[0.6666666666666666,\"#ed7953\"],[0.7777777777777778,\"#fb9f3a\"],[0.8888888888888888,\"#fdca26\"],[1.0,\"#f0f921\"]],\"type\":\"contour\"}],\"heatmapgl\":[{\"colorbar\":{\"outlinewidth\":0,\"ticks\":\"\"},\"colorscale\":[[0.0,\"#0d0887\"],[0.1111111111111111,\"#46039f\"],[0.2222222222222222,\"#7201a8\"],[0.3333333333333333,\"#9c179e\"],[0.4444444444444444,\"#bd3786\"],[0.5555555555555556,\"#d8576b\"],[0.6666666666666666,\"#ed7953\"],[0.7777777777777778,\"#fb9f3a\"],[0.8888888888888888,\"#fdca26\"],[1.0,\"#f0f921\"]],\"type\":\"heatmapgl\"}],\"heatmap\":[{\"colorbar\":{\"outlinewidth\":0,\"ticks\":\"\"},\"colorscale\":[[0.0,\"#0d0887\"],[0.1111111111111111,\"#46039f\"],[0.2222222222222222,\"#7201a8\"],[0.3333333333333333,\"#9c179e\"],[0.4444444444444444,\"#bd3786\"],[0.5555555555555556,\"#d8576b\"],[0.6666666666666666,\"#ed7953\"],[0.7777777777777778,\"#fb9f3a\"],[0.8888888888888888,\"#fdca26\"],[1.0,\"#f0f921\"]],\"type\":\"heatmap\"}],\"histogram2dcontour\":[{\"colorbar\":{\"outlinewidth\":0,\"ticks\":\"\"},\"colorscale\":[[0.0,\"#0d0887\"],[0.1111111111111111,\"#46039f\"],[0.2222222222222222,\"#7201a8\"],[0.3333333333333333,\"#9c179e\"],[0.4444444444444444,\"#bd3786\"],[0.5555555555555556,\"#d8576b\"],[0.6666666666666666,\"#ed7953\"],[0.7777777777777778,\"#fb9f3a\"],[0.8888888888888888,\"#fdca26\"],[1.0,\"#f0f921\"]],\"type\":\"histogram2dcontour\"}],\"histogram2d\":[{\"colorbar\":{\"outlinewidth\":0,\"ticks\":\"\"},\"colorscale\":[[0.0,\"#0d0887\"],[0.1111111111111111,\"#46039f\"],[0.2222222222222222,\"#7201a8\"],[0.3333333333333333,\"#9c179e\"],[0.4444444444444444,\"#bd3786\"],[0.5555555555555556,\"#d8576b\"],[0.6666666666666666,\"#ed7953\"],[0.7777777777777778,\"#fb9f3a\"],[0.8888888888888888,\"#fdca26\"],[1.0,\"#f0f921\"]],\"type\":\"histogram2d\"}],\"histogram\":[{\"marker\":{\"pattern\":{\"fillmode\":\"overlay\",\"size\":10,\"solidity\":0.2}},\"type\":\"histogram\"}],\"mesh3d\":[{\"colorbar\":{\"outlinewidth\":0,\"ticks\":\"\"},\"type\":\"mesh3d\"}],\"parcoords\":[{\"line\":{\"colorbar\":{\"outlinewidth\":0,\"ticks\":\"\"}},\"type\":\"parcoords\"}],\"pie\":[{\"automargin\":true,\"type\":\"pie\"}],\"scatter3d\":[{\"line\":{\"colorbar\":{\"outlinewidth\":0,\"ticks\":\"\"}},\"marker\":{\"colorbar\":{\"outlinewidth\":0,\"ticks\":\"\"}},\"type\":\"scatter3d\"}],\"scattercarpet\":[{\"marker\":{\"colorbar\":{\"outlinewidth\":0,\"ticks\":\"\"}},\"type\":\"scattercarpet\"}],\"scattergeo\":[{\"marker\":{\"colorbar\":{\"outlinewidth\":0,\"ticks\":\"\"}},\"type\":\"scattergeo\"}],\"scattergl\":[{\"marker\":{\"colorbar\":{\"outlinewidth\":0,\"ticks\":\"\"}},\"type\":\"scattergl\"}],\"scattermapbox\":[{\"marker\":{\"colorbar\":{\"outlinewidth\":0,\"ticks\":\"\"}},\"type\":\"scattermapbox\"}],\"scatterpolargl\":[{\"marker\":{\"colorbar\":{\"outlinewidth\":0,\"ticks\":\"\"}},\"type\":\"scatterpolargl\"}],\"scatterpolar\":[{\"marker\":{\"colorbar\":{\"outlinewidth\":0,\"ticks\":\"\"}},\"type\":\"scatterpolar\"}],\"scatter\":[{\"fillpattern\":{\"fillmode\":\"overlay\",\"size\":10,\"solidity\":0.2},\"type\":\"scatter\"}],\"scatterternary\":[{\"marker\":{\"colorbar\":{\"outlinewidth\":0,\"ticks\":\"\"}},\"type\":\"scatterternary\"}],\"surface\":[{\"colorbar\":{\"outlinewidth\":0,\"ticks\":\"\"},\"colorscale\":[[0.0,\"#0d0887\"],[0.1111111111111111,\"#46039f\"],[0.2222222222222222,\"#7201a8\"],[0.3333333333333333,\"#9c179e\"],[0.4444444444444444,\"#bd3786\"],[0.5555555555555556,\"#d8576b\"],[0.6666666666666666,\"#ed7953\"],[0.7777777777777778,\"#fb9f3a\"],[0.8888888888888888,\"#fdca26\"],[1.0,\"#f0f921\"]],\"type\":\"surface\"}],\"table\":[{\"cells\":{\"fill\":{\"color\":\"#EBF0F8\"},\"line\":{\"color\":\"white\"}},\"header\":{\"fill\":{\"color\":\"#C8D4E3\"},\"line\":{\"color\":\"white\"}},\"type\":\"table\"}]},\"layout\":{\"annotationdefaults\":{\"arrowcolor\":\"#2a3f5f\",\"arrowhead\":0,\"arrowwidth\":1},\"autotypenumbers\":\"strict\",\"coloraxis\":{\"colorbar\":{\"outlinewidth\":0,\"ticks\":\"\"}},\"colorscale\":{\"diverging\":[[0,\"#8e0152\"],[0.1,\"#c51b7d\"],[0.2,\"#de77ae\"],[0.3,\"#f1b6da\"],[0.4,\"#fde0ef\"],[0.5,\"#f7f7f7\"],[0.6,\"#e6f5d0\"],[0.7,\"#b8e186\"],[0.8,\"#7fbc41\"],[0.9,\"#4d9221\"],[1,\"#276419\"]],\"sequential\":[[0.0,\"#0d0887\"],[0.1111111111111111,\"#46039f\"],[0.2222222222222222,\"#7201a8\"],[0.3333333333333333,\"#9c179e\"],[0.4444444444444444,\"#bd3786\"],[0.5555555555555556,\"#d8576b\"],[0.6666666666666666,\"#ed7953\"],[0.7777777777777778,\"#fb9f3a\"],[0.8888888888888888,\"#fdca26\"],[1.0,\"#f0f921\"]],\"sequentialminus\":[[0.0,\"#0d0887\"],[0.1111111111111111,\"#46039f\"],[0.2222222222222222,\"#7201a8\"],[0.3333333333333333,\"#9c179e\"],[0.4444444444444444,\"#bd3786\"],[0.5555555555555556,\"#d8576b\"],[0.6666666666666666,\"#ed7953\"],[0.7777777777777778,\"#fb9f3a\"],[0.8888888888888888,\"#fdca26\"],[1.0,\"#f0f921\"]]},\"colorway\":[\"#636efa\",\"#EF553B\",\"#00cc96\",\"#ab63fa\",\"#FFA15A\",\"#19d3f3\",\"#FF6692\",\"#B6E880\",\"#FF97FF\",\"#FECB52\"],\"font\":{\"color\":\"#2a3f5f\"},\"geo\":{\"bgcolor\":\"white\",\"lakecolor\":\"white\",\"landcolor\":\"#E5ECF6\",\"showlakes\":true,\"showland\":true,\"subunitcolor\":\"white\"},\"hoverlabel\":{\"align\":\"left\"},\"hovermode\":\"closest\",\"mapbox\":{\"style\":\"light\"},\"paper_bgcolor\":\"white\",\"plot_bgcolor\":\"#E5ECF6\",\"polar\":{\"angularaxis\":{\"gridcolor\":\"white\",\"linecolor\":\"white\",\"ticks\":\"\"},\"bgcolor\":\"#E5ECF6\",\"radialaxis\":{\"gridcolor\":\"white\",\"linecolor\":\"white\",\"ticks\":\"\"}},\"scene\":{\"xaxis\":{\"backgroundcolor\":\"#E5ECF6\",\"gridcolor\":\"white\",\"gridwidth\":2,\"linecolor\":\"white\",\"showbackground\":true,\"ticks\":\"\",\"zerolinecolor\":\"white\"},\"yaxis\":{\"backgroundcolor\":\"#E5ECF6\",\"gridcolor\":\"white\",\"gridwidth\":2,\"linecolor\":\"white\",\"showbackground\":true,\"ticks\":\"\",\"zerolinecolor\":\"white\"},\"zaxis\":{\"backgroundcolor\":\"#E5ECF6\",\"gridcolor\":\"white\",\"gridwidth\":2,\"linecolor\":\"white\",\"showbackground\":true,\"ticks\":\"\",\"zerolinecolor\":\"white\"}},\"shapedefaults\":{\"line\":{\"color\":\"#2a3f5f\"}},\"ternary\":{\"aaxis\":{\"gridcolor\":\"white\",\"linecolor\":\"white\",\"ticks\":\"\"},\"baxis\":{\"gridcolor\":\"white\",\"linecolor\":\"white\",\"ticks\":\"\"},\"bgcolor\":\"#E5ECF6\",\"caxis\":{\"gridcolor\":\"white\",\"linecolor\":\"white\",\"ticks\":\"\"}},\"title\":{\"x\":0.05},\"xaxis\":{\"automargin\":true,\"gridcolor\":\"white\",\"linecolor\":\"white\",\"ticks\":\"\",\"title\":{\"standoff\":15},\"zerolinecolor\":\"white\",\"zerolinewidth\":2},\"yaxis\":{\"automargin\":true,\"gridcolor\":\"white\",\"linecolor\":\"white\",\"ticks\":\"\",\"title\":{\"standoff\":15},\"zerolinecolor\":\"white\",\"zerolinewidth\":2}}}},                        {\"responsive\": true}                    ).then(function(){\n",
       "                            \n",
       "var gd = document.getElementById('8646b912-8378-4f99-b007-a7c30626a52b');\n",
       "var x = new MutationObserver(function (mutations, observer) {{\n",
       "        var display = window.getComputedStyle(gd).display;\n",
       "        if (!display || display === 'none') {{\n",
       "            console.log([gd, 'removed!']);\n",
       "            Plotly.purge(gd);\n",
       "            observer.disconnect();\n",
       "        }}\n",
       "}});\n",
       "\n",
       "// Listen for the removal of the full notebook cells\n",
       "var notebookContainer = gd.closest('#notebook-container');\n",
       "if (notebookContainer) {{\n",
       "    x.observe(notebookContainer, {childList: true});\n",
       "}}\n",
       "\n",
       "// Listen for the clearing of the current output cell\n",
       "var outputEl = gd.closest('.output');\n",
       "if (outputEl) {{\n",
       "    x.observe(outputEl, {childList: true});\n",
       "}}\n",
       "\n",
       "                        })                };                });            </script>        </div>"
      ]
     },
     "metadata": {},
     "output_type": "display_data"
    }
   ],
   "source": [
    "actual_chart = go.Scatter(x=predictDates, y=testY_reshape, name= 'Actual Price')\n",
    "predict_chart = go.Scatter(x=predictDates, y=yhat_reshape, name= 'Predict Price')\n",
    "py.iplot([predict_chart, actual_chart])"
   ]
  },
  {
   "cell_type": "code",
   "execution_count": 32,
   "id": "c037bd88",
   "metadata": {
    "execution": {
     "iopub.execute_input": "2022-11-30T10:10:28.511936Z",
     "iopub.status.busy": "2022-11-30T10:10:28.511530Z",
     "iopub.status.idle": "2022-11-30T10:10:28.517596Z",
     "shell.execute_reply": "2022-11-30T10:10:28.516341Z"
    },
    "papermill": {
     "duration": 0.040328,
     "end_time": "2022-11-30T10:10:28.519334",
     "exception": false,
     "start_time": "2022-11-30T10:10:28.479006",
     "status": "completed"
    },
    "tags": []
   },
   "outputs": [],
   "source": [
    "import numpy as np\n",
    "dataactual = np.mat(testY_reshape).reshape(1, int(np.prod(np.mat(testY_reshape).shape))).T\n",
    "datapredict = np.mat(yhat_reshape).reshape(1, int(np.prod(np.mat(yhat_reshape).shape))).T"
   ]
  },
  {
   "cell_type": "code",
   "execution_count": 33,
   "id": "c248d1b6",
   "metadata": {
    "execution": {
     "iopub.execute_input": "2022-11-30T10:10:28.581482Z",
     "iopub.status.busy": "2022-11-30T10:10:28.581091Z",
     "iopub.status.idle": "2022-11-30T10:10:28.597285Z",
     "shell.execute_reply": "2022-11-30T10:10:28.596182Z"
    },
    "papermill": {
     "duration": 0.04997,
     "end_time": "2022-11-30T10:10:28.599680",
     "exception": false,
     "start_time": "2022-11-30T10:10:28.549710",
     "status": "completed"
    },
    "tags": []
   },
   "outputs": [
    {
     "data": {
      "text/html": [
       "<div>\n",
       "<style scoped>\n",
       "    .dataframe tbody tr th:only-of-type {\n",
       "        vertical-align: middle;\n",
       "    }\n",
       "\n",
       "    .dataframe tbody tr th {\n",
       "        vertical-align: top;\n",
       "    }\n",
       "\n",
       "    .dataframe thead th {\n",
       "        text-align: right;\n",
       "    }\n",
       "</style>\n",
       "<table border=\"1\" class=\"dataframe\">\n",
       "  <thead>\n",
       "    <tr style=\"text-align: right;\">\n",
       "      <th></th>\n",
       "      <th>Actual Price</th>\n",
       "      <th>Predict Price</th>\n",
       "    </tr>\n",
       "  </thead>\n",
       "  <tbody>\n",
       "    <tr>\n",
       "      <th>0</th>\n",
       "      <td>1335.652344</td>\n",
       "      <td>1351.513672</td>\n",
       "    </tr>\n",
       "    <tr>\n",
       "      <th>1</th>\n",
       "      <td>1327.978638</td>\n",
       "      <td>1349.818481</td>\n",
       "    </tr>\n",
       "    <tr>\n",
       "      <th>2</th>\n",
       "      <td>1311.644409</td>\n",
       "      <td>1342.424194</td>\n",
       "    </tr>\n",
       "    <tr>\n",
       "      <th>3</th>\n",
       "      <td>1276.093506</td>\n",
       "      <td>1326.698608</td>\n",
       "    </tr>\n",
       "    <tr>\n",
       "      <th>4</th>\n",
       "      <td>1323.439209</td>\n",
       "      <td>1292.536377</td>\n",
       "    </tr>\n",
       "    <tr>\n",
       "      <th>5</th>\n",
       "      <td>1362.126587</td>\n",
       "      <td>1338.052124</td>\n",
       "    </tr>\n",
       "    <tr>\n",
       "      <th>6</th>\n",
       "      <td>1352.837158</td>\n",
       "      <td>1375.360229</td>\n",
       "    </tr>\n",
       "    <tr>\n",
       "      <th>7</th>\n",
       "      <td>1351.709473</td>\n",
       "      <td>1366.392456</td>\n",
       "    </tr>\n",
       "    <tr>\n",
       "      <th>8</th>\n",
       "      <td>1332.516968</td>\n",
       "      <td>1365.304199</td>\n",
       "    </tr>\n",
       "    <tr>\n",
       "      <th>9</th>\n",
       "      <td>1315.500488</td>\n",
       "      <td>1346.796875</td>\n",
       "    </tr>\n",
       "    <tr>\n",
       "      <th>10</th>\n",
       "      <td>1322.604248</td>\n",
       "      <td>1330.409302</td>\n",
       "    </tr>\n",
       "    <tr>\n",
       "      <th>11</th>\n",
       "      <td>1291.337646</td>\n",
       "      <td>1337.248169</td>\n",
       "    </tr>\n",
       "    <tr>\n",
       "      <th>12</th>\n",
       "      <td>1279.575684</td>\n",
       "      <td>1307.174194</td>\n",
       "    </tr>\n",
       "    <tr>\n",
       "      <th>13</th>\n",
       "      <td>1294.906372</td>\n",
       "      <td>1295.878540</td>\n",
       "    </tr>\n",
       "    <tr>\n",
       "      <th>14</th>\n",
       "      <td>1288.123901</td>\n",
       "      <td>1310.603394</td>\n",
       "    </tr>\n",
       "    <tr>\n",
       "      <th>15</th>\n",
       "      <td>1297.422119</td>\n",
       "      <td>1304.087036</td>\n",
       "    </tr>\n",
       "    <tr>\n",
       "      <th>16</th>\n",
       "      <td>1274.871704</td>\n",
       "      <td>1313.021240</td>\n",
       "    </tr>\n",
       "    <tr>\n",
       "      <th>17</th>\n",
       "      <td>1306.296631</td>\n",
       "      <td>1291.363892</td>\n",
       "    </tr>\n",
       "    <tr>\n",
       "      <th>18</th>\n",
       "      <td>1331.713623</td>\n",
       "      <td>1321.554077</td>\n",
       "    </tr>\n",
       "    <tr>\n",
       "      <th>19</th>\n",
       "      <td>1310.447021</td>\n",
       "      <td>1346.022827</td>\n",
       "    </tr>\n",
       "    <tr>\n",
       "      <th>20</th>\n",
       "      <td>1285.744263</td>\n",
       "      <td>1325.546509</td>\n",
       "    </tr>\n",
       "    <tr>\n",
       "      <th>21</th>\n",
       "      <td>1283.200928</td>\n",
       "      <td>1301.801514</td>\n",
       "    </tr>\n",
       "    <tr>\n",
       "      <th>22</th>\n",
       "      <td>1299.946411</td>\n",
       "      <td>1299.359009</td>\n",
       "    </tr>\n",
       "    <tr>\n",
       "      <th>23</th>\n",
       "      <td>1314.299194</td>\n",
       "      <td>1315.447754</td>\n",
       "    </tr>\n",
       "    <tr>\n",
       "      <th>24</th>\n",
       "      <td>1363.447021</td>\n",
       "      <td>1329.253174</td>\n",
       "    </tr>\n",
       "    <tr>\n",
       "      <th>25</th>\n",
       "      <td>1344.998535</td>\n",
       "      <td>1376.635376</td>\n",
       "    </tr>\n",
       "    <tr>\n",
       "      <th>26</th>\n",
       "      <td>1461.665405</td>\n",
       "      <td>1358.829956</td>\n",
       "    </tr>\n",
       "    <tr>\n",
       "      <th>27</th>\n",
       "      <td>1566.566650</td>\n",
       "      <td>1471.827637</td>\n",
       "    </tr>\n",
       "    <tr>\n",
       "      <th>28</th>\n",
       "      <td>1514.374878</td>\n",
       "      <td>1574.232544</td>\n",
       "    </tr>\n",
       "    <tr>\n",
       "      <th>29</th>\n",
       "      <td>1555.477905</td>\n",
       "      <td>1523.188232</td>\n",
       "    </tr>\n",
       "    <tr>\n",
       "      <th>30</th>\n",
       "      <td>1619.698486</td>\n",
       "      <td>1563.371948</td>\n",
       "    </tr>\n",
       "    <tr>\n",
       "      <th>31</th>\n",
       "      <td>1590.783325</td>\n",
       "      <td>1626.388062</td>\n",
       "    </tr>\n",
       "    <tr>\n",
       "      <th>32</th>\n",
       "      <td>1572.714478</td>\n",
       "      <td>1597.980225</td>\n",
       "    </tr>\n",
       "    <tr>\n",
       "      <th>33</th>\n",
       "      <td>1579.704590</td>\n",
       "      <td>1580.257446</td>\n",
       "    </tr>\n",
       "    <tr>\n",
       "      <th>34</th>\n",
       "      <td>1519.711792</td>\n",
       "      <td>1587.110962</td>\n",
       "    </tr>\n",
       "    <tr>\n",
       "      <th>35</th>\n",
       "      <td>1531.541748</td>\n",
       "      <td>1528.399170</td>\n",
       "    </tr>\n",
       "    <tr>\n",
       "      <th>36</th>\n",
       "      <td>1645.093384</td>\n",
       "      <td>1539.956787</td>\n",
       "    </tr>\n",
       "    <tr>\n",
       "      <th>37</th>\n",
       "      <td>1627.968018</td>\n",
       "      <td>1651.384399</td>\n",
       "    </tr>\n",
       "    <tr>\n",
       "      <th>38</th>\n",
       "      <td>1572.234741</td>\n",
       "      <td>1634.522949</td>\n",
       "    </tr>\n",
       "    <tr>\n",
       "      <th>39</th>\n",
       "      <td>1568.591309</td>\n",
       "      <td>1579.787231</td>\n",
       "    </tr>\n",
       "    <tr>\n",
       "      <th>40</th>\n",
       "      <td>1332.835571</td>\n",
       "      <td>1576.216553</td>\n",
       "    </tr>\n",
       "    <tr>\n",
       "      <th>41</th>\n",
       "      <td>1100.169800</td>\n",
       "      <td>1347.103882</td>\n",
       "    </tr>\n",
       "    <tr>\n",
       "      <th>42</th>\n",
       "      <td>1299.464600</td>\n",
       "      <td>1129.554199</td>\n",
       "    </tr>\n",
       "    <tr>\n",
       "      <th>43</th>\n",
       "      <td>1287.221069</td>\n",
       "      <td>1314.984619</td>\n",
       "    </tr>\n",
       "    <tr>\n",
       "      <th>44</th>\n",
       "      <td>1255.268311</td>\n",
       "      <td>1303.219727</td>\n",
       "    </tr>\n",
       "    <tr>\n",
       "      <th>45</th>\n",
       "      <td>1221.819214</td>\n",
       "      <td>1272.565674</td>\n",
       "    </tr>\n",
       "    <tr>\n",
       "      <th>46</th>\n",
       "      <td>1241.604248</td>\n",
       "      <td>1240.552612</td>\n",
       "    </tr>\n",
       "    <tr>\n",
       "      <th>47</th>\n",
       "      <td>1251.736206</td>\n",
       "      <td>1259.478760</td>\n",
       "    </tr>\n",
       "    <tr>\n",
       "      <th>48</th>\n",
       "      <td>1215.602539</td>\n",
       "      <td>1269.181519</td>\n",
       "    </tr>\n",
       "    <tr>\n",
       "      <th>49</th>\n",
       "      <td>1200.808594</td>\n",
       "      <td>1234.611572</td>\n",
       "    </tr>\n",
       "    <tr>\n",
       "      <th>50</th>\n",
       "      <td>1212.300293</td>\n",
       "      <td>1220.484131</td>\n",
       "    </tr>\n",
       "    <tr>\n",
       "      <th>51</th>\n",
       "      <td>1218.426758</td>\n",
       "      <td>1231.456787</td>\n",
       "    </tr>\n",
       "    <tr>\n",
       "      <th>52</th>\n",
       "      <td>1142.466675</td>\n",
       "      <td>1237.310181</td>\n",
       "    </tr>\n",
       "    <tr>\n",
       "      <th>53</th>\n",
       "      <td>1108.353027</td>\n",
       "      <td>1166.006714</td>\n",
       "    </tr>\n",
       "    <tr>\n",
       "      <th>54</th>\n",
       "      <td>1135.173462</td>\n",
       "      <td>1136.597778</td>\n",
       "    </tr>\n",
       "    <tr>\n",
       "      <th>55</th>\n",
       "      <td>1183.199585</td>\n",
       "      <td>1159.713135</td>\n",
       "    </tr>\n",
       "    <tr>\n",
       "      <th>56</th>\n",
       "      <td>1203.983154</td>\n",
       "      <td>1203.688599</td>\n",
       "    </tr>\n",
       "    <tr>\n",
       "      <th>57</th>\n",
       "      <td>1198.925903</td>\n",
       "      <td>1223.514404</td>\n",
       "    </tr>\n",
       "    <tr>\n",
       "      <th>58</th>\n",
       "      <td>1205.897949</td>\n",
       "      <td>1218.687378</td>\n",
       "    </tr>\n",
       "    <tr>\n",
       "      <th>59</th>\n",
       "      <td>1195.126953</td>\n",
       "      <td>1225.342529</td>\n",
       "    </tr>\n",
       "  </tbody>\n",
       "</table>\n",
       "</div>"
      ],
      "text/plain": [
       "    Actual Price  Predict Price\n",
       "0    1335.652344    1351.513672\n",
       "1    1327.978638    1349.818481\n",
       "2    1311.644409    1342.424194\n",
       "3    1276.093506    1326.698608\n",
       "4    1323.439209    1292.536377\n",
       "5    1362.126587    1338.052124\n",
       "6    1352.837158    1375.360229\n",
       "7    1351.709473    1366.392456\n",
       "8    1332.516968    1365.304199\n",
       "9    1315.500488    1346.796875\n",
       "10   1322.604248    1330.409302\n",
       "11   1291.337646    1337.248169\n",
       "12   1279.575684    1307.174194\n",
       "13   1294.906372    1295.878540\n",
       "14   1288.123901    1310.603394\n",
       "15   1297.422119    1304.087036\n",
       "16   1274.871704    1313.021240\n",
       "17   1306.296631    1291.363892\n",
       "18   1331.713623    1321.554077\n",
       "19   1310.447021    1346.022827\n",
       "20   1285.744263    1325.546509\n",
       "21   1283.200928    1301.801514\n",
       "22   1299.946411    1299.359009\n",
       "23   1314.299194    1315.447754\n",
       "24   1363.447021    1329.253174\n",
       "25   1344.998535    1376.635376\n",
       "26   1461.665405    1358.829956\n",
       "27   1566.566650    1471.827637\n",
       "28   1514.374878    1574.232544\n",
       "29   1555.477905    1523.188232\n",
       "30   1619.698486    1563.371948\n",
       "31   1590.783325    1626.388062\n",
       "32   1572.714478    1597.980225\n",
       "33   1579.704590    1580.257446\n",
       "34   1519.711792    1587.110962\n",
       "35   1531.541748    1528.399170\n",
       "36   1645.093384    1539.956787\n",
       "37   1627.968018    1651.384399\n",
       "38   1572.234741    1634.522949\n",
       "39   1568.591309    1579.787231\n",
       "40   1332.835571    1576.216553\n",
       "41   1100.169800    1347.103882\n",
       "42   1299.464600    1129.554199\n",
       "43   1287.221069    1314.984619\n",
       "44   1255.268311    1303.219727\n",
       "45   1221.819214    1272.565674\n",
       "46   1241.604248    1240.552612\n",
       "47   1251.736206    1259.478760\n",
       "48   1215.602539    1269.181519\n",
       "49   1200.808594    1234.611572\n",
       "50   1212.300293    1220.484131\n",
       "51   1218.426758    1231.456787\n",
       "52   1142.466675    1237.310181\n",
       "53   1108.353027    1166.006714\n",
       "54   1135.173462    1136.597778\n",
       "55   1183.199585    1159.713135\n",
       "56   1203.983154    1203.688599\n",
       "57   1198.925903    1223.514404\n",
       "58   1205.897949    1218.687378\n",
       "59   1195.126953    1225.342529"
      ]
     },
     "metadata": {},
     "output_type": "display_data"
    }
   ],
   "source": [
    "import pandas as pd\n",
    "actualtable = pd.DataFrame(dataactual,columns=['Actual Price'])\n",
    "actualtable\n",
    "predicttable = pd.DataFrame(datapredict,columns=['Predict Price'])\n",
    "result = pd.concat([actualtable,predicttable], axis=1, join='inner')\n",
    "display(result)"
   ]
  }
 ],
 "metadata": {
  "kernelspec": {
   "display_name": "Python 3",
   "language": "python",
   "name": "python3"
  },
  "language_info": {
   "codemirror_mode": {
    "name": "ipython",
    "version": 3
   },
   "file_extension": ".py",
   "mimetype": "text/x-python",
   "name": "python",
   "nbconvert_exporter": "python",
   "pygments_lexer": "ipython3",
   "version": "3.7.12"
  },
  "papermill": {
   "default_parameters": {},
   "duration": 34.962767,
   "end_time": "2022-11-30T10:10:31.997664",
   "environment_variables": {},
   "exception": null,
   "input_path": "__notebook__.ipynb",
   "output_path": "__notebook__.ipynb",
   "parameters": {},
   "start_time": "2022-11-30T10:09:57.034897",
   "version": "2.3.4"
  }
 },
 "nbformat": 4,
 "nbformat_minor": 5
}
